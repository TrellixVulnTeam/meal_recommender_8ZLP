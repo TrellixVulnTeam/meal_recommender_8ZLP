{
 "cells": [
  {
   "cell_type": "markdown",
   "metadata": {},
   "source": [
    "# IDEAL MEALS DEMO"
   ]
  },
  {
   "cell_type": "code",
   "execution_count": 16,
   "metadata": {},
   "outputs": [],
   "source": [
    "import pandas as pd\n",
    "import numpy as np\n",
    "from gsheets import Sheets"
   ]
  },
  {
   "cell_type": "code",
   "execution_count": 12,
   "metadata": {},
   "outputs": [
    {
     "data": {
      "text/plain": [
       "<gsheets.api.Sheets at 0x115224278>"
      ]
     },
     "execution_count": 12,
     "metadata": {},
     "output_type": "execute_result"
    }
   ],
   "source": [
    "# Create sheets object using Google Drive API and Sheets API\n",
    "sheets = Sheets.from_files('~/client_secrets.json', '~/storage.json')\n",
    "sheets"
   ]
  },
  {
   "cell_type": "code",
   "execution_count": 7,
   "metadata": {},
   "outputs": [
    {
     "data": {
      "text/plain": [
       "<gsheets.api.Sheets at 0x1150a8e80>"
      ]
     },
     "execution_count": 7,
     "metadata": {},
     "output_type": "execute_result"
    }
   ],
   "source": [
    "url = 'https://docs.google.com/spreadsheets/d/1FS1Sk6Fga2vWbkFkzgbes-ufvlLUTj7UhIYije1DgTw'\n",
    "s = sheets.get(url)\n",
    "s"
   ]
  },
  {
   "cell_type": "code",
   "execution_count": 9,
   "metadata": {},
   "outputs": [
    {
     "data": {
      "text/plain": [
       "<SpreadSheet 1FS1S...Tw 'Cuisine Survey (Responses)'>"
      ]
     },
     "execution_count": 9,
     "metadata": {},
     "output_type": "execute_result"
    }
   ],
   "source": [
    "#Save first sheet to the the csv.\n",
    "s.sheets[0].to_csv('data/drive/cuisine_pref.csv', encoding='utf-8', dialect='excel')"
   ]
  },
  {
   "cell_type": "markdown",
   "metadata": {},
   "source": [
    "# Pick 30 random recipes from these cuisines"
   ]
  },
  {
   "cell_type": "code",
   "execution_count": 13,
   "metadata": {},
   "outputs": [],
   "source": [
    "#cuisines = ['Italian', 'Mediterrenean', 'French', 'Asian', 'American', 'Cuban', 'Mexican', 'German', 'Spanish', 'Moroccan']\n",
    " "
   ]
  },
  {
   "cell_type": "code",
   "execution_count": 27,
   "metadata": {},
   "outputs": [],
   "source": [
    "n = 10\n",
    "fn = 'data/synthetic/recipes/cuisine_size_{}.csv'.format(n)\n",
    "data_final = pd.read_csv(fn)\n",
    "cuisines = {'American',\n",
    " 'Asian',\n",
    " 'Chinese',\n",
    " 'Cuban',\n",
    " 'English',\n",
    " 'French',\n",
    " 'German',\n",
    " 'Greek',\n",
    " 'Hungarian',\n",
    " 'Indian',\n",
    " 'Irish',\n",
    " 'Italian',\n",
    " 'Japanese',\n",
    " 'Mediterranean',\n",
    " 'Mexican',\n",
    " 'Moroccan',\n",
    " 'Southern & Soul Food',\n",
    " 'Southwestern',\n",
    " 'Spanish',\n",
    " 'Swedish',\n",
    " 'Thai'}"
   ]
  },
  {
   "cell_type": "code",
   "execution_count": 28,
   "metadata": {},
   "outputs": [],
   "source": [
    "def make_data_for_each_cuisine(size=10):\n",
    "    df = pd.DataFrame(columns=data_final.columns)\n",
    "    for c in cuisines:\n",
    "        #print(c)\n",
    "        mask = (data_final['cuisine'] == c)\n",
    "        #print(data_final[mask])\n",
    "        df = df.append(data_final[mask][:size])\n",
    "    df.to_csv('data/demo_survey/cuisine_size_{}.csv'.format(size))"
   ]
  },
  {
   "cell_type": "code",
   "execution_count": 29,
   "metadata": {},
   "outputs": [],
   "source": [
    "n_new = 1\n",
    "make_data_for_each_cuisine(size=n_new)\n"
   ]
  },
  {
   "cell_type": "code",
   "execution_count": 30,
   "metadata": {},
   "outputs": [],
   "source": [
    "df = pd.read_csv('data/demo_survey/cuisine_size_{}.csv'.format(n_new))\n",
    "new_df = df[['recipe_id']]\n",
    "new_df.to_csv('data/demo_survey/fake_demo.csv')"
   ]
  },
  {
   "cell_type": "code",
   "execution_count": null,
   "metadata": {},
   "outputs": [],
   "source": []
  },
  {
   "cell_type": "code",
   "execution_count": null,
   "metadata": {},
   "outputs": [],
   "source": []
  },
  {
   "cell_type": "code",
   "execution_count": null,
   "metadata": {},
   "outputs": [],
   "source": []
  }
 ],
 "metadata": {
  "kernelspec": {
   "display_name": "Python 3",
   "language": "python",
   "name": "python3"
  },
  "language_info": {
   "codemirror_mode": {
    "name": "ipython",
    "version": 3
   },
   "file_extension": ".py",
   "mimetype": "text/x-python",
   "name": "python",
   "nbconvert_exporter": "python",
   "pygments_lexer": "ipython3",
   "version": "3.6.5"
  }
 },
 "nbformat": 4,
 "nbformat_minor": 2
}
