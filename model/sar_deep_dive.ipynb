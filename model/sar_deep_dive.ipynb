{
 "cells": [
  {
   "cell_type": "markdown",
   "metadata": {},
   "source": [
    "<i>Copyright (c) Microsoft Corporation. All rights reserved.</i>\n",
    "\n",
    "<i>Licensed under the MIT License.</i>"
   ]
  },
  {
   "cell_type": "markdown",
   "metadata": {},
   "source": [
    "# SAR Single Node on MovieLens (Python, CPU)\n",
    "\n",
    "In this example, we will walk through each step of the Simple Algorithm for Recommendation (SAR) algorithm using a Python single-node implementation.\n",
    "\n",
    "SAR is a fast, scalable, adaptive algorithm for personalized recommendations based on user transaction history. It is powered by understanding the similarity between items, and recommending similar items to those a user has an existing affinity for."
   ]
  },
  {
   "cell_type": "markdown",
   "metadata": {},
   "source": [
    "## 1 SAR algorithm\n",
    "\n",
    "The following figure presents a high-level architecture of SAR. \n",
    "\n",
    "At a very high level, two intermediate matrices are created and used to generate a set of recommendation scores:\n",
    "\n",
    "- An item similarity matrix $S$ estimates item-item relationships.\n",
    "- An affinity matrix $A$ estimates user-item relationships.\n",
    "\n",
    "Recommendation scores are then created by computing the matrix multiplication $A\\times S$.\n",
    "\n",
    "Optional steps (e.g. \"time decay\" and \"remove seen items\") are described in the details below.\n",
    "\n",
    "<img src=\"https://recodatasets.blob.core.windows.net/images/sar_schema.svg?sanitize=true\">\n",
    "\n",
    "### 1.1 Compute item co-occurrence and item similarity\n",
    "\n",
    "SAR defines similarity based on item-to-item co-occurrence data. Co-occurrence is defined as the number of times two items appear together for a given user. We can represent the co-occurrence of all items as a $m\\times m$ matrix $C$, where $c_{i,j}$ is the number of times item $i$ occurred with item $j$, and $m$ is the total number of items.\n",
    "\n",
    "The co-occurence matric $C$ has the following properties:\n",
    "\n",
    "- It is symmetric, so $c_{i,j} = c_{j,i}$\n",
    "- It is nonnegative: $c_{i,j} \\geq 0$\n",
    "- The occurrences are at least as large as the co-occurrences. I.e., the largest element for each row (and column) is on the main diagonal: $\\forall(i,j) C_{i,i},C_{j,j} \\geq C_{i,j}$.\n",
    "\n",
    "Once we have a co-occurrence matrix, an item similarity matrix $S$ can be obtained by rescaling the co-occurrences according to a given metric. Options for the metric include `Jaccard`, `lift`, and `counts` (meaning no rescaling).\n",
    "\n",
    "\n",
    "If $c_{ii}$ and $c_{jj}$ are the $i$th and $j$th diagonal elements of $C$, the rescaling options are:\n",
    "\n",
    "- `Jaccard`: $s_{ij}=\\frac{c_{ij}}{(c_{ii}+c_{jj}-c_{ij})}$\n",
    "- `lift`: $s_{ij}=\\frac{c_{ij}}{(c_{ii} \\times c_{jj})}$\n",
    "- `counts`: $s_{ij}=c_{ij}$\n",
    "\n",
    "In general, using `counts` as a similarity metric favours predictability, meaning that the most popular items will be recommended most of the time. `lift` by contrast favours discoverability/serendipity: an item that is less popular overall but highly favoured by a small subset of users is more likely to be recommended. `Jaccard` is a compromise between the two.\n",
    "\n",
    "\n",
    "### 1.2 Compute user affinity scores\n",
    "\n",
    "The affinity matrix in SAR captures the strength of the relationship between each individual user and the items that user has already interacted with. SAR incorporates two factors that can impact users' affinities: \n",
    "\n",
    "- It can consider information about the **type** of user-item interaction through differential weighting of different events (e.g. it may weigh events in which a user rated a particular item more heavily than events in which a user viewed the item).\n",
    "- It can consider information about **when** a user-item event occurred (e.g. it may discount the value of events that take place in the distant past.\n",
    "\n",
    "Formalizing these factors produces us an expression for user-item affinity:\n",
    "\n",
    "$$a_{ij}=\\sum_k w_k \\left(\\frac{1}{2}\\right)^{\\frac{t_0-t_k}{T}} $$\n",
    "\n",
    "where the affinity $a_{ij}$ for user $i$ and item $j$ is the weighted sum of all $k$ events involving user $i$ and item $j$. $w_k$ represents the weight of a particular event, and the power of 2 term reflects the temporally-discounted event. The $(\\frac{1}{2})^n$ scaling factor causes the parameter $T$ to serve as a half-life: events $T$ units before $t_0$ will be given half the weight as those taking place at $t_0$.\n",
    "\n",
    "Repeating this computation for all $n$ users and $m$ items results in an $n\\times m$ matrix $A$. Simplifications of the above expression can be obtained by setting all the weights equal to 1 (effectively ignoring event types), or by setting the half-life parameter $T$ to infinity (ignoring transaction times).\n",
    "\n",
    "### 1.3 Remove seen item\n",
    "\n",
    "Optionally we remove items which have already been seen in the training set, i.e. don't recommend items which have been previously bought by the user again.\n",
    "\n",
    "### 1.4 Top-k item calculation\n",
    "\n",
    "The personalized recommendations for a set of users can then be obtained by multiplying the affinity matrix ($A$) by the similarity matrix ($S$). The result is a recommendation score matrix, where each row corresponds to a user, each column corresponds to an item, and each entry corresponds to a user / item pair. Higher scores correspond to more strongly recommended items.\n",
    "\n",
    "It is worth noting that the complexity of recommending operation depends on the data size. SAR algorithm itself has $O(n^3)$ complexity. Therefore the single-node implementation is not supposed to handle large dataset in a scalable manner. Whenever one uses the algorithm, it is recommended to run with sufficiently large memory. "
   ]
  },
  {
   "cell_type": "markdown",
   "metadata": {},
   "source": [
    "## 2 SAR single-node implementation\n",
    "\n",
    "The SAR implementation illustrated in this notebook was developed in Python, primarily with Python packages like `numpy`, `pandas`, and `scipy` which are commonly used in most of the data analytics / machine learning tasks. Details of the implementation can be found in [Recommenders/reco_utils/recommender/sar/sar_singlenode.py](../../reco_utils/recommender/sar/sar_singlenode.py)."
   ]
  },
  {
   "cell_type": "markdown",
   "metadata": {},
   "source": [
    "## 3 SAR single-node based movie recommender"
   ]
  },
  {
   "cell_type": "code",
   "execution_count": 3,
   "metadata": {},
   "outputs": [
    {
     "name": "stdout",
     "output_type": "stream",
     "text": [
      "System version: 3.7.3 (default, Oct  7 2019, 12:56:13) \n",
      "[GCC 8.3.0]\n",
      "Pandas version: 0.25.1\n"
     ]
    }
   ],
   "source": [
    "# set the environment path to find Recommenders\n",
    "import sys\n",
    "sys.path.append(\"../\")\n",
    "\n",
    "import itertools\n",
    "\n",
    "import logging\n",
    "import os\n",
    "\n",
    "import numpy as np\n",
    "import pandas as pd\n",
    "import papermill as pm\n",
    "\n",
    "from reco_utils.dataset import movielens\n",
    "from reco_utils.dataset.python_splitters import python_stratified_split\n",
    "from reco_utils.evaluation.python_evaluation import map_at_k, ndcg_at_k, precision_at_k, recall_at_k\n",
    "\n",
    "print(\"System version: {}\".format(sys.version))\n",
    "print(\"Pandas version: {}\".format(pd.__version__))"
   ]
  },
  {
   "cell_type": "code",
   "execution_count": 4,
   "metadata": {
    "tags": [
     "parameters"
    ]
   },
   "outputs": [],
   "source": [
    "# top k items to recommend\n",
    "TOP_K = 10"
   ]
  },
  {
   "cell_type": "markdown",
   "metadata": {},
   "source": [
    "### 3.1 Load Data\n",
    "\n",
    "SAR is intended to be used on interactions with the following schema:\n",
    "`<User ID>, <Item ID>, <Time>`. \n",
    "\n",
    "Each row represents a single interaction between a user and an item. These interactions might be different types of events on an e-commerce website, such as a user clicking to view an item, adding it to a shopping basket, following a recommendation link, and so on. \n",
    "\n",
    "The MovieLens dataset is well formatted interactions of Users providing Ratings to Movies (movie ratings are used as the event weight) - we will use it for the rest of the example."
   ]
  },
  {
   "cell_type": "code",
   "execution_count": 5,
   "metadata": {},
   "outputs": [],
   "source": [
    "data_dir = '../data'\n",
    "data_type = '/synthetic' #original or synthetic\n",
    "data_path = data_dir + data_type\n",
    "review_ratio = .5\n",
    "n_users = 20\n",
    "n_recipes_per_cuisine = 50\n",
    "\n",
    "#review_fn = '/recipe_reviews.csv'\n",
    "#features_fn = '/recipe_features.csv'\n",
    "\n",
    "review_fn = '/reviews/{}_users_dynamicratio.csv'.format(n_users)\n",
    "features_fn = '/recipes/cuisine_size_{}.csv'.format(n_recipes_per_cuisine)"
   ]
  },
  {
   "cell_type": "code",
   "execution_count": 6,
   "metadata": {},
   "outputs": [],
   "source": [
    "\n",
    "data = pd.read_csv(data_path + review_fn)# encoding = \"ISO-8859-1\",delimiter=\"|\")\n",
    "features = pd.read_csv(data_path + features_fn)#,encoding = \"ISO-8859-1\",delimiter=\"|\")\n",
    "\n",
    "# only keep recipes with reviews\n",
    "features = pd.merge(features, data, left_on='recipe_id', right_on='recipe_id', how=\"inner\")\n",
    "features = features[[\"recipe_id\", \"cuisine\", \"clean_ingredients\"]]\n",
    "features = features.drop_duplicates().reset_index()\n",
    "features = features[[\"recipe_id\", \"cuisine\", \"clean_ingredients\"]]\n",
    "\n",
    "# Convert ingredients column to list\n",
    "features[\"clean_ingredients\"] = features[\"clean_ingredients\"].apply(lambda a : a.split(\"+\"))\n",
    "\n",
    "# Convert the float precision to 32-bit in order to reduce memory consumption \n",
    "data.loc[:, 'rating'] = data['rating'].astype(np.float32)\n"
   ]
  },
  {
   "cell_type": "code",
   "execution_count": 7,
   "metadata": {},
   "outputs": [
    {
     "data": {
      "text/html": [
       "<div>\n",
       "<style scoped>\n",
       "    .dataframe tbody tr th:only-of-type {\n",
       "        vertical-align: middle;\n",
       "    }\n",
       "\n",
       "    .dataframe tbody tr th {\n",
       "        vertical-align: top;\n",
       "    }\n",
       "\n",
       "    .dataframe thead th {\n",
       "        text-align: right;\n",
       "    }\n",
       "</style>\n",
       "<table border=\"1\" class=\"dataframe\">\n",
       "  <thead>\n",
       "    <tr style=\"text-align: right;\">\n",
       "      <th></th>\n",
       "      <th>recipe_id</th>\n",
       "      <th>cuisine</th>\n",
       "      <th>clean_ingredients</th>\n",
       "    </tr>\n",
       "  </thead>\n",
       "  <tbody>\n",
       "    <tr>\n",
       "      <td>0</td>\n",
       "      <td>Pork-Schnitzels-778938</td>\n",
       "      <td>German</td>\n",
       "      <td>[crumbs, chops, pork, bread, panko, flour, egg...</td>\n",
       "    </tr>\n",
       "    <tr>\n",
       "      <td>1</td>\n",
       "      <td>Sausage-Sauerkraut-Sloppy-Joes-1557576</td>\n",
       "      <td>German</td>\n",
       "      <td>[onion, rolls, had, ground, sauerkraut, cheese...</td>\n",
       "    </tr>\n",
       "    <tr>\n",
       "      <td>2</td>\n",
       "      <td>Sauerkraut-Chickpea-Flour-Ravioli-_-Spiced-App...</td>\n",
       "      <td>German</td>\n",
       "      <td>[onion, husk, powder, unsweetened, psyllium, s...</td>\n",
       "    </tr>\n",
       "    <tr>\n",
       "      <td>3</td>\n",
       "      <td>Sauerbraten-1500604</td>\n",
       "      <td>German</td>\n",
       "      <td>[onion, black, lowsodium, cookies, allspice, t...</td>\n",
       "    </tr>\n",
       "    <tr>\n",
       "      <td>4</td>\n",
       "      <td>Bratwurst-With-Apples_-Onion_-And-Sauerkraut-E...</td>\n",
       "      <td>German</td>\n",
       "      <td>[black, onion, lengthwise, golden, apples, bra...</td>\n",
       "    </tr>\n",
       "  </tbody>\n",
       "</table>\n",
       "</div>"
      ],
      "text/plain": [
       "                                           recipe_id cuisine  \\\n",
       "0                             Pork-Schnitzels-778938  German   \n",
       "1             Sausage-Sauerkraut-Sloppy-Joes-1557576  German   \n",
       "2  Sauerkraut-Chickpea-Flour-Ravioli-_-Spiced-App...  German   \n",
       "3                                Sauerbraten-1500604  German   \n",
       "4  Bratwurst-With-Apples_-Onion_-And-Sauerkraut-E...  German   \n",
       "\n",
       "                                   clean_ingredients  \n",
       "0  [crumbs, chops, pork, bread, panko, flour, egg...  \n",
       "1  [onion, rolls, had, ground, sauerkraut, cheese...  \n",
       "2  [onion, husk, powder, unsweetened, psyllium, s...  \n",
       "3  [onion, black, lowsodium, cookies, allspice, t...  \n",
       "4  [black, onion, lengthwise, golden, apples, bra...  "
      ]
     },
     "execution_count": 7,
     "metadata": {},
     "output_type": "execute_result"
    }
   ],
   "source": [
    "features.head()"
   ]
  },
  {
   "cell_type": "code",
   "execution_count": 8,
   "metadata": {},
   "outputs": [
    {
     "data": {
      "text/html": [
       "<div>\n",
       "<style scoped>\n",
       "    .dataframe tbody tr th:only-of-type {\n",
       "        vertical-align: middle;\n",
       "    }\n",
       "\n",
       "    .dataframe tbody tr th {\n",
       "        vertical-align: top;\n",
       "    }\n",
       "\n",
       "    .dataframe thead th {\n",
       "        text-align: right;\n",
       "    }\n",
       "</style>\n",
       "<table border=\"1\" class=\"dataframe\">\n",
       "  <thead>\n",
       "    <tr style=\"text-align: right;\">\n",
       "      <th></th>\n",
       "      <th>Unnamed: 0</th>\n",
       "      <th>username</th>\n",
       "      <th>recipe_id</th>\n",
       "      <th>rating</th>\n",
       "    </tr>\n",
       "  </thead>\n",
       "  <tbody>\n",
       "    <tr>\n",
       "      <td>0</td>\n",
       "      <td>21</td>\n",
       "      <td>lurline_needs_german_eatz_697</td>\n",
       "      <td>German_style-Pasta-Recipezaar</td>\n",
       "      <td>5.0</td>\n",
       "    </tr>\n",
       "    <tr>\n",
       "      <td>1</td>\n",
       "      <td>9</td>\n",
       "      <td>lurline_needs_german_eatz_697</td>\n",
       "      <td>Bratwurst-With-Apples_-Onion_-And-Sauerkraut-E...</td>\n",
       "      <td>5.0</td>\n",
       "    </tr>\n",
       "    <tr>\n",
       "      <td>2</td>\n",
       "      <td>36</td>\n",
       "      <td>lurline_needs_german_eatz_697</td>\n",
       "      <td>Bierrocks-Ii-Allrecipes</td>\n",
       "      <td>5.0</td>\n",
       "    </tr>\n",
       "    <tr>\n",
       "      <td>3</td>\n",
       "      <td>40</td>\n",
       "      <td>lurline_needs_german_eatz_697</td>\n",
       "      <td>Pork-Chops-German-Style-Allrecipes</td>\n",
       "      <td>5.0</td>\n",
       "    </tr>\n",
       "    <tr>\n",
       "      <td>4</td>\n",
       "      <td>33</td>\n",
       "      <td>lurline_needs_german_eatz_697</td>\n",
       "      <td>Sauerbraten-Recipezaar_6</td>\n",
       "      <td>5.0</td>\n",
       "    </tr>\n",
       "  </tbody>\n",
       "</table>\n",
       "</div>"
      ],
      "text/plain": [
       "   Unnamed: 0                       username  \\\n",
       "0          21  lurline_needs_german_eatz_697   \n",
       "1           9  lurline_needs_german_eatz_697   \n",
       "2          36  lurline_needs_german_eatz_697   \n",
       "3          40  lurline_needs_german_eatz_697   \n",
       "4          33  lurline_needs_german_eatz_697   \n",
       "\n",
       "                                           recipe_id  rating  \n",
       "0                      German_style-Pasta-Recipezaar     5.0  \n",
       "1  Bratwurst-With-Apples_-Onion_-And-Sauerkraut-E...     5.0  \n",
       "2                            Bierrocks-Ii-Allrecipes     5.0  \n",
       "3                 Pork-Chops-German-Style-Allrecipes     5.0  \n",
       "4                           Sauerbraten-Recipezaar_6     5.0  "
      ]
     },
     "execution_count": 8,
     "metadata": {},
     "output_type": "execute_result"
    }
   ],
   "source": [
    "data.head()"
   ]
  },
  {
   "cell_type": "code",
   "execution_count": 9,
   "metadata": {},
   "outputs": [
    {
     "data": {
      "text/html": [
       "<div>\n",
       "<style scoped>\n",
       "    .dataframe tbody tr th:only-of-type {\n",
       "        vertical-align: middle;\n",
       "    }\n",
       "\n",
       "    .dataframe tbody tr th {\n",
       "        vertical-align: top;\n",
       "    }\n",
       "\n",
       "    .dataframe thead th {\n",
       "        text-align: right;\n",
       "    }\n",
       "</style>\n",
       "<table border=\"1\" class=\"dataframe\">\n",
       "  <thead>\n",
       "    <tr style=\"text-align: right;\">\n",
       "      <th></th>\n",
       "      <th>recipe_id</th>\n",
       "      <th>cuisine</th>\n",
       "      <th>clean_ingredients</th>\n",
       "    </tr>\n",
       "  </thead>\n",
       "  <tbody>\n",
       "    <tr>\n",
       "      <td>count</td>\n",
       "      <td>711</td>\n",
       "      <td>711</td>\n",
       "      <td>711</td>\n",
       "    </tr>\n",
       "    <tr>\n",
       "      <td>unique</td>\n",
       "      <td>711</td>\n",
       "      <td>21</td>\n",
       "      <td>696</td>\n",
       "    </tr>\n",
       "    <tr>\n",
       "      <td>top</td>\n",
       "      <td>Merlot-Pot-Roast-With-Horseradish-Smashed-Pota...</td>\n",
       "      <td>Spanish</td>\n",
       "      <td>[oil, chicken, vegetable, selfrising, buttermi...</td>\n",
       "    </tr>\n",
       "    <tr>\n",
       "      <td>freq</td>\n",
       "      <td>1</td>\n",
       "      <td>47</td>\n",
       "      <td>3</td>\n",
       "    </tr>\n",
       "  </tbody>\n",
       "</table>\n",
       "</div>"
      ],
      "text/plain": [
       "                                                recipe_id  cuisine  \\\n",
       "count                                                 711      711   \n",
       "unique                                                711       21   \n",
       "top     Merlot-Pot-Roast-With-Horseradish-Smashed-Pota...  Spanish   \n",
       "freq                                                    1       47   \n",
       "\n",
       "                                        clean_ingredients  \n",
       "count                                                 711  \n",
       "unique                                                696  \n",
       "top     [oil, chicken, vegetable, selfrising, buttermi...  \n",
       "freq                                                    3  "
      ]
     },
     "execution_count": 9,
     "metadata": {},
     "output_type": "execute_result"
    }
   ],
   "source": [
    "#print(data.columns)\n",
    "features.describe()"
   ]
  },
  {
   "cell_type": "markdown",
   "metadata": {},
   "source": [
    "### 3.2 Split the data using the python random splitter provided in utilities:\n",
    "\n",
    "We split the full dataset into a `train` and `test` dataset to evaluate performance of the algorithm against a held-out set not seen during training. Because SAR generates recommendations based on user preferences, all users that are in the test set must also exist in the training set. For this case, we can use the provided `python_stratified_split` function which holds out a percentage (in this case 25%) of items from each user, but ensures all users are in both `train` and `test` datasets. Other options are available in the `dataset.python_splitters` module which provide more control over how the split occurs.\n"
   ]
  },
  {
   "cell_type": "code",
   "execution_count": 10,
   "metadata": {},
   "outputs": [],
   "source": [
    "header = {\n",
    "    \"col_user\": \"username\",\n",
    "    \"col_item\": \"recipe_id\",\n",
    "    \"col_rating\": \"rating\",\n",
    "    \"col_timestamp\": \"date\",\n",
    "    \"col_prediction\": \"Prediction\",\n",
    "}"
   ]
  },
  {
   "cell_type": "code",
   "execution_count": 11,
   "metadata": {},
   "outputs": [
    {
     "name": "stderr",
     "output_type": "stream",
     "text": [
      "/home/anton/.local/lib/python3.7/site-packages/pandas/core/frame.py:7123: FutureWarning: Sorting because non-concatenation axis is not aligned. A future version\n",
      "of pandas will change to not sort by default.\n",
      "\n",
      "To accept the future behavior, pass 'sort=False'.\n",
      "\n",
      "To retain the current behavior and silence the warning, pass 'sort=True'.\n",
      "\n",
      "  sort=sort,\n"
     ]
    },
    {
     "name": "stdout",
     "output_type": "stream",
     "text": [
      "(1671, 4)\n",
      "(240, 4)\n"
     ]
    }
   ],
   "source": [
    "train, test = python_stratified_split(data, ratio=0.80, col_user=header[\"col_user\"], col_item=header[\"col_item\"],seed=42)\n",
    "for r in features[\"recipe_id\"]:\n",
    "    dummy = pd.DataFrame([[\"dummy\",r,3]], columns=['username',\"recipe_id\",\"rating\"])\n",
    "    train = train.append(dummy, ignore_index=True)\n",
    "print(train.shape)\n",
    "print(test.shape)"
   ]
  },
  {
   "cell_type": "markdown",
   "metadata": {},
   "source": [
    "In this case, for the illustration purpose, the following parameter values are used:\n",
    "\n",
    "|Parameter|Value|Description|\n",
    "|---------|---------|-------------|\n",
    "|`similarity_type`|`jaccard`|Method used to calculate item similarity.|\n",
    "|`time_decay_coefficient`|30|Period in days (term of $T$ shown in the formula of Section 2.2.2)|\n",
    "|`time_now`|`None`|Time decay reference.|\n",
    "|`timedecay_formula`|`True`|Whether time decay formula is used.|"
   ]
  },
  {
   "cell_type": "code",
   "execution_count": 12,
   "metadata": {},
   "outputs": [],
   "source": [
    "#V1 (key error)\n",
    "# set log level to INFO\n",
    "\n",
    "#from reco_utils.recommender.sar.sar_singlenode import SARSingleNode\n",
    "\n",
    "#logging.basicConfig(level=logging.DEBUG, \n",
    "#                    format='%(asctime)s %(levelname)-8s %(message)s')\n",
    "\n",
    "#model = SARSingleNode(\n",
    "#    recipes=features, #FIX\n",
    "#    similarity_type=\"custom\", \n",
    "#    time_decay_coefficient=30, \n",
    "#    time_now=None, \n",
    "#    timedecay_formula=False, #add recipes to node CAN SET THIS TO TRUE LATER BUT LETS LEAVE IT FOR NOW\n",
    "#    **header\n",
    "#)\n",
    "\n",
    "\n",
    "#model.fit(train)"
   ]
  },
  {
   "cell_type": "code",
   "execution_count": 13,
   "metadata": {},
   "outputs": [
    {
     "data": {
      "text/html": [
       "<div>\n",
       "<style scoped>\n",
       "    .dataframe tbody tr th:only-of-type {\n",
       "        vertical-align: middle;\n",
       "    }\n",
       "\n",
       "    .dataframe tbody tr th {\n",
       "        vertical-align: top;\n",
       "    }\n",
       "\n",
       "    .dataframe thead th {\n",
       "        text-align: right;\n",
       "    }\n",
       "</style>\n",
       "<table border=\"1\" class=\"dataframe\">\n",
       "  <thead>\n",
       "    <tr style=\"text-align: right;\">\n",
       "      <th></th>\n",
       "      <th>recipe_id</th>\n",
       "      <th>cuisine</th>\n",
       "      <th>clean_ingredients</th>\n",
       "    </tr>\n",
       "  </thead>\n",
       "  <tbody>\n",
       "    <tr>\n",
       "      <td>0</td>\n",
       "      <td>Pork-Schnitzels-778938</td>\n",
       "      <td>German</td>\n",
       "      <td>[crumbs, chops, pork, bread, panko, flour, egg...</td>\n",
       "    </tr>\n",
       "    <tr>\n",
       "      <td>1</td>\n",
       "      <td>Sausage-Sauerkraut-Sloppy-Joes-1557576</td>\n",
       "      <td>German</td>\n",
       "      <td>[onion, rolls, had, ground, sauerkraut, cheese...</td>\n",
       "    </tr>\n",
       "    <tr>\n",
       "      <td>2</td>\n",
       "      <td>Sauerkraut-Chickpea-Flour-Ravioli-_-Spiced-App...</td>\n",
       "      <td>German</td>\n",
       "      <td>[onion, husk, powder, unsweetened, psyllium, s...</td>\n",
       "    </tr>\n",
       "    <tr>\n",
       "      <td>3</td>\n",
       "      <td>Sauerbraten-1500604</td>\n",
       "      <td>German</td>\n",
       "      <td>[onion, black, lowsodium, cookies, allspice, t...</td>\n",
       "    </tr>\n",
       "    <tr>\n",
       "      <td>4</td>\n",
       "      <td>Bratwurst-With-Apples_-Onion_-And-Sauerkraut-E...</td>\n",
       "      <td>German</td>\n",
       "      <td>[black, onion, lengthwise, golden, apples, bra...</td>\n",
       "    </tr>\n",
       "    <tr>\n",
       "      <td>...</td>\n",
       "      <td>...</td>\n",
       "      <td>...</td>\n",
       "      <td>...</td>\n",
       "    </tr>\n",
       "    <tr>\n",
       "      <td>706</td>\n",
       "      <td>Make-Low-Sodium-Spaghetti-Sauce-1702290</td>\n",
       "      <td>Italian</td>\n",
       "      <td>[onion, black, good, wine, olive, ground, flat...</td>\n",
       "    </tr>\n",
       "    <tr>\n",
       "      <td>707</td>\n",
       "      <td>Fennel-Pork-Meatball-578332</td>\n",
       "      <td>Italian</td>\n",
       "      <td>[breadcrumbs, onion, leaf, olive, ground, egg,...</td>\n",
       "    </tr>\n",
       "    <tr>\n",
       "      <td>708</td>\n",
       "      <td>Sausage_-Spinach-and-Ricotta-Stuffed-Pasta-She...</td>\n",
       "      <td>Italian</td>\n",
       "      <td>[onion, container, mushrooms, seasoning, olive...</td>\n",
       "    </tr>\n",
       "    <tr>\n",
       "      <td>709</td>\n",
       "      <td>Gnocchi-alla-Sorrentina-1786441</td>\n",
       "      <td>Italian</td>\n",
       "      <td>[potatoes, oil, tomatoes, pulp, egg, saltpeppe...</td>\n",
       "    </tr>\n",
       "    <tr>\n",
       "      <td>710</td>\n",
       "      <td>Italian-Chicken-Braid-1911078</td>\n",
       "      <td>Italian</td>\n",
       "      <td>[seasoning, cans, breast, refrigerated, pillsb...</td>\n",
       "    </tr>\n",
       "  </tbody>\n",
       "</table>\n",
       "<p>711 rows × 3 columns</p>\n",
       "</div>"
      ],
      "text/plain": [
       "                                             recipe_id  cuisine  \\\n",
       "0                               Pork-Schnitzels-778938   German   \n",
       "1               Sausage-Sauerkraut-Sloppy-Joes-1557576   German   \n",
       "2    Sauerkraut-Chickpea-Flour-Ravioli-_-Spiced-App...   German   \n",
       "3                                  Sauerbraten-1500604   German   \n",
       "4    Bratwurst-With-Apples_-Onion_-And-Sauerkraut-E...   German   \n",
       "..                                                 ...      ...   \n",
       "706            Make-Low-Sodium-Spaghetti-Sauce-1702290  Italian   \n",
       "707                        Fennel-Pork-Meatball-578332  Italian   \n",
       "708  Sausage_-Spinach-and-Ricotta-Stuffed-Pasta-She...  Italian   \n",
       "709                    Gnocchi-alla-Sorrentina-1786441  Italian   \n",
       "710                      Italian-Chicken-Braid-1911078  Italian   \n",
       "\n",
       "                                     clean_ingredients  \n",
       "0    [crumbs, chops, pork, bread, panko, flour, egg...  \n",
       "1    [onion, rolls, had, ground, sauerkraut, cheese...  \n",
       "2    [onion, husk, powder, unsweetened, psyllium, s...  \n",
       "3    [onion, black, lowsodium, cookies, allspice, t...  \n",
       "4    [black, onion, lengthwise, golden, apples, bra...  \n",
       "..                                                 ...  \n",
       "706  [onion, black, good, wine, olive, ground, flat...  \n",
       "707  [breadcrumbs, onion, leaf, olive, ground, egg,...  \n",
       "708  [onion, container, mushrooms, seasoning, olive...  \n",
       "709  [potatoes, oil, tomatoes, pulp, egg, saltpeppe...  \n",
       "710  [seasoning, cans, breast, refrigerated, pillsb...  \n",
       "\n",
       "[711 rows x 3 columns]"
      ]
     },
     "execution_count": 13,
     "metadata": {},
     "output_type": "execute_result"
    }
   ],
   "source": [
    "features"
   ]
  },
  {
   "cell_type": "code",
   "execution_count": 23,
   "metadata": {},
   "outputs": [
    {
     "name": "stderr",
     "output_type": "stream",
     "text": [
      "2019-12-09 21:57:53,866 INFO     Collecting user affinity matrix\n",
      "2019-12-09 21:57:53,869 INFO     De-duplicating the user-item counts\n",
      "2019-12-09 21:57:53,873 INFO     Creating index columns\n",
      "2019-12-09 21:57:53,889 INFO     Building user affinity sparse matrix\n",
      "2019-12-09 21:57:53,893 INFO     Calculating item co-occurrence\n",
      "2019-12-09 21:57:53,928 INFO     Calculating item similarity\n",
      "2019-12-09 21:57:53,944 INFO     Done training\n"
     ]
    },
    {
     "name": "stdout",
     "output_type": "stream",
     "text": [
      "items in df 1671\n",
      "index to item len 711\n",
      "item to index len 711\n"
     ]
    }
   ],
   "source": [
    "#V2\n",
    "# set log level to INFO\n",
    "from reco_utils_2.recommender.sar.sar_singlenode import SARSingleNode\n",
    "\n",
    "logging.basicConfig(level=logging.DEBUG, \n",
    "                    format='%(asctime)s %(levelname)-8s %(message)s')\n",
    "\n",
    "model = SARSingleNode(\n",
    "    similarity_type=\"custom\", \n",
    "    time_decay_coefficient=30, \n",
    "    time_now=None, \n",
    "    timedecay_formula=False, #add recipes to node CAN SET THIS TO TRUE LATER BUT LETS LEAVE IT FOR NOW\n",
    "    **header\n",
    ")\n",
    "\n",
    "jaccard = lambda a,b: len(set(a).intersection(set(b)))/len(set(a).union(set(b)))\n",
    "\n",
    "model.fit(train, features, \"recipe_id\", {\"ratings\" : 1})#, \"clean_ingredients\" : (0.5, jaccard)})"
   ]
  },
  {
   "cell_type": "code",
   "execution_count": 19,
   "metadata": {},
   "outputs": [],
   "source": [
    "\n",
    "#model.save_to_file()"
   ]
  },
  {
   "cell_type": "code",
   "execution_count": 20,
   "metadata": {},
   "outputs": [
    {
     "ename": "IndentationError",
     "evalue": "unexpected indent (<ipython-input-20-1457119ff497>, line 6)",
     "output_type": "error",
     "traceback": [
      "\u001b[0;36m  File \u001b[0;32m\"<ipython-input-20-1457119ff497>\"\u001b[0;36m, line \u001b[0;32m6\u001b[0m\n\u001b[0;31m    format='%(asctime)s %(levelname)-8s %(message)s')\u001b[0m\n\u001b[0m    ^\u001b[0m\n\u001b[0;31mIndentationError\u001b[0m\u001b[0;31m:\u001b[0m unexpected indent\n"
     ]
    }
   ],
   "source": [
    "#execute this to load model\n",
    "\n",
    "#from reco_utils_2.recommender.sar.sar_singlenode import SARSingleNode\n",
    "\n",
    "#logging.basicConfig(level=logging.DEBUG, \n",
    "                    format='%(asctime)s %(levelname)-8s %(message)s')\n",
    "\n",
    "#model = SARSingleNode(\n",
    "#    similarity_type=\"custom\", \n",
    "#    time_decay_coefficient=30, \n",
    "    time_now=None, \n",
    "    timedecay_formula=False, #add recipes to node CAN SET THIS TO TRUE LATER BUT LETS LEAVE IT FOR NOW\n",
    "    **header\n",
    ")\n",
    "\n",
    "model.fit(train, features, \"recipe_id\", None, load=True)"
   ]
  },
  {
   "cell_type": "code",
   "execution_count": 24,
   "metadata": {},
   "outputs": [
    {
     "name": "stderr",
     "output_type": "stream",
     "text": [
      "2019-12-09 21:57:58,095 INFO     Calculating recommendation scores\n",
      "2019-12-09 21:57:58,106 INFO     Removing seen items\n",
      "2019-12-09 21:57:58,111 WARNING  Number of items is less than top_k, limiting top_k to number of items\n",
      "2019-12-09 21:57:58,267 INFO     Calculating recommendation scores\n",
      "2019-12-09 21:57:58,269 INFO     Removing seen items\n",
      "2019-12-09 21:57:58,271 WARNING  Number of items is less than top_k, limiting top_k to number of items\n",
      "2019-12-09 21:57:58,370 INFO     Calculating recommendation scores\n",
      "2019-12-09 21:57:58,372 INFO     Removing seen items\n",
      "2019-12-09 21:57:58,373 WARNING  Number of items is less than top_k, limiting top_k to number of items\n"
     ]
    },
    {
     "name": "stdout",
     "output_type": "stream",
     "text": [
      "1 absolute: 0.4 \trelative: 4.800000000000001\n",
      "3 absolute: 0.45 \trelative: 1.8\n"
     ]
    },
    {
     "name": "stderr",
     "output_type": "stream",
     "text": [
      "2019-12-09 21:57:58,485 INFO     Calculating recommendation scores\n",
      "2019-12-09 21:57:58,487 INFO     Removing seen items\n",
      "2019-12-09 21:57:58,489 WARNING  Number of items is less than top_k, limiting top_k to number of items\n"
     ]
    },
    {
     "name": "stdout",
     "output_type": "stream",
     "text": [
      "5 absolute: 0.52 \trelative: 1.248\n",
      "10 absolute: 0.865 \trelative: 1.038\n"
     ]
    }
   ],
   "source": [
    "from reco_utils_2.evaluation.custom_evaluation import accuracy_metric\n",
    "\n",
    "for i in [1, 3, 5, 10]:\n",
    "    absolute, relative = accuracy_metric(model, test, i)\n",
    "    print(i, \"absolute:\", absolute, \"\\trelative:\", relative)"
   ]
  },
  {
   "cell_type": "code",
   "execution_count": 165,
   "metadata": {
    "scrolled": false
   },
   "outputs": [
    {
     "name": "stderr",
     "output_type": "stream",
     "text": [
      "2019-12-08 21:06:42,177 INFO     Calculating recommendation scores\n",
      "2019-12-08 21:06:42,179 INFO     Removing seen items\n"
     ]
    },
    {
     "data": {
      "text/html": [
       "<div>\n",
       "<style scoped>\n",
       "    .dataframe tbody tr th:only-of-type {\n",
       "        vertical-align: middle;\n",
       "    }\n",
       "\n",
       "    .dataframe tbody tr th {\n",
       "        vertical-align: top;\n",
       "    }\n",
       "\n",
       "    .dataframe thead th {\n",
       "        text-align: right;\n",
       "    }\n",
       "</style>\n",
       "<table border=\"1\" class=\"dataframe\">\n",
       "  <thead>\n",
       "    <tr style=\"text-align: right;\">\n",
       "      <th></th>\n",
       "      <th>username</th>\n",
       "      <th>recipe_id</th>\n",
       "      <th>Prediction</th>\n",
       "    </tr>\n",
       "  </thead>\n",
       "  <tbody>\n",
       "    <tr>\n",
       "      <td>0</td>\n",
       "      <td>chinese_finesser_593</td>\n",
       "      <td>Dhal-Curry-983208</td>\n",
       "      <td>60.871190</td>\n",
       "    </tr>\n",
       "    <tr>\n",
       "      <td>1</td>\n",
       "      <td>chinese_finesser_593</td>\n",
       "      <td>Greek-Stuffed-Tomatoes-With-Quinoa-And-Black-L...</td>\n",
       "      <td>60.337195</td>\n",
       "    </tr>\n",
       "    <tr>\n",
       "      <td>2</td>\n",
       "      <td>chinese_finesser_593</td>\n",
       "      <td>Steamed-Scallops-with-Soy-Sauce-and-Garlic-Oil...</td>\n",
       "      <td>58.298650</td>\n",
       "    </tr>\n",
       "    <tr>\n",
       "      <td>3</td>\n",
       "      <td>chinese_finesser_593</td>\n",
       "      <td>Spicy-Moroccan-Shrimp-Tagine-513928</td>\n",
       "      <td>57.690683</td>\n",
       "    </tr>\n",
       "    <tr>\n",
       "      <td>4</td>\n",
       "      <td>chinese_finesser_593</td>\n",
       "      <td>Thai-Red-Curry-Meatballs-with-Coconut-Curry-Sa...</td>\n",
       "      <td>57.348882</td>\n",
       "    </tr>\n",
       "  </tbody>\n",
       "</table>\n",
       "</div>"
      ],
      "text/plain": [
       "               username                                          recipe_id  \\\n",
       "0  chinese_finesser_593                                  Dhal-Curry-983208   \n",
       "1  chinese_finesser_593  Greek-Stuffed-Tomatoes-With-Quinoa-And-Black-L...   \n",
       "2  chinese_finesser_593  Steamed-Scallops-with-Soy-Sauce-and-Garlic-Oil...   \n",
       "3  chinese_finesser_593                Spicy-Moroccan-Shrimp-Tagine-513928   \n",
       "4  chinese_finesser_593  Thai-Red-Curry-Meatballs-with-Coconut-Curry-Sa...   \n",
       "\n",
       "   Prediction  \n",
       "0   60.871190  \n",
       "1   60.337195  \n",
       "2   58.298650  \n",
       "3   57.690683  \n",
       "4   57.348882  "
      ]
     },
     "execution_count": 165,
     "metadata": {},
     "output_type": "execute_result"
    }
   ],
   "source": [
    "top_k = model.recommend_k_items(train, remove_seen=True)\n",
    "top_k.head()"
   ]
  },
  {
   "cell_type": "markdown",
   "metadata": {},
   "source": [
    "The final output from the `recommend_k_items` method generates recommendation scores for each user-item pair, which are shown as follows."
   ]
  },
  {
   "cell_type": "code",
   "execution_count": 166,
   "metadata": {
    "scrolled": true
   },
   "outputs": [
    {
     "data": {
      "text/html": [
       "<div>\n",
       "<style scoped>\n",
       "    .dataframe tbody tr th:only-of-type {\n",
       "        vertical-align: middle;\n",
       "    }\n",
       "\n",
       "    .dataframe tbody tr th {\n",
       "        vertical-align: top;\n",
       "    }\n",
       "\n",
       "    .dataframe thead th {\n",
       "        text-align: right;\n",
       "    }\n",
       "</style>\n",
       "<table border=\"1\" class=\"dataframe\">\n",
       "  <thead>\n",
       "    <tr style=\"text-align: right;\">\n",
       "      <th></th>\n",
       "      <th>username</th>\n",
       "      <th>recipe_id</th>\n",
       "      <th>Prediction</th>\n",
       "    </tr>\n",
       "  </thead>\n",
       "  <tbody>\n",
       "    <tr>\n",
       "      <td>90</td>\n",
       "      <td>trang_only_eats_chinese_food_076</td>\n",
       "      <td>English-Roast-Beef-Allrecipes</td>\n",
       "      <td>65.789723</td>\n",
       "    </tr>\n",
       "    <tr>\n",
       "      <td>91</td>\n",
       "      <td>trang_only_eats_chinese_food_076</td>\n",
       "      <td>Spanish-Meatballs-_Albondigas_-with-Pintos_-Zu...</td>\n",
       "      <td>64.568017</td>\n",
       "    </tr>\n",
       "    <tr>\n",
       "      <td>92</td>\n",
       "      <td>trang_only_eats_chinese_food_076</td>\n",
       "      <td>Moroccan-Spiced-Fish-1994862</td>\n",
       "      <td>64.183143</td>\n",
       "    </tr>\n",
       "    <tr>\n",
       "      <td>93</td>\n",
       "      <td>trang_only_eats_chinese_food_076</td>\n",
       "      <td>Stuffed-Grape-Leaves-with-Cucumber-Yogurt-Sauc...</td>\n",
       "      <td>63.909300</td>\n",
       "    </tr>\n",
       "    <tr>\n",
       "      <td>94</td>\n",
       "      <td>trang_only_eats_chinese_food_076</td>\n",
       "      <td>Tofu-Scramble-Recipe-Southwestern-Style-1994866</td>\n",
       "      <td>63.123103</td>\n",
       "    </tr>\n",
       "    <tr>\n",
       "      <td>95</td>\n",
       "      <td>trang_only_eats_chinese_food_076</td>\n",
       "      <td>Vegan-Irish-Hand-Pies-1894258</td>\n",
       "      <td>62.451949</td>\n",
       "    </tr>\n",
       "    <tr>\n",
       "      <td>96</td>\n",
       "      <td>trang_only_eats_chinese_food_076</td>\n",
       "      <td>Thai-Red-Curry-Meatballs-with-Coconut-Curry-Sa...</td>\n",
       "      <td>61.285298</td>\n",
       "    </tr>\n",
       "    <tr>\n",
       "      <td>97</td>\n",
       "      <td>trang_only_eats_chinese_food_076</td>\n",
       "      <td>Spicy-Moroccan-Shrimp-Tagine-513928</td>\n",
       "      <td>61.187768</td>\n",
       "    </tr>\n",
       "    <tr>\n",
       "      <td>98</td>\n",
       "      <td>trang_only_eats_chinese_food_076</td>\n",
       "      <td>Sauerbraten-Beef-in-Gingersnap-Gravy-1540117</td>\n",
       "      <td>61.146492</td>\n",
       "    </tr>\n",
       "    <tr>\n",
       "      <td>99</td>\n",
       "      <td>trang_only_eats_chinese_food_076</td>\n",
       "      <td>Spanish-rice-with-chicken-299070</td>\n",
       "      <td>61.071635</td>\n",
       "    </tr>\n",
       "  </tbody>\n",
       "</table>\n",
       "</div>"
      ],
      "text/plain": [
       "                            username  \\\n",
       "90  trang_only_eats_chinese_food_076   \n",
       "91  trang_only_eats_chinese_food_076   \n",
       "92  trang_only_eats_chinese_food_076   \n",
       "93  trang_only_eats_chinese_food_076   \n",
       "94  trang_only_eats_chinese_food_076   \n",
       "95  trang_only_eats_chinese_food_076   \n",
       "96  trang_only_eats_chinese_food_076   \n",
       "97  trang_only_eats_chinese_food_076   \n",
       "98  trang_only_eats_chinese_food_076   \n",
       "99  trang_only_eats_chinese_food_076   \n",
       "\n",
       "                                            recipe_id  Prediction  \n",
       "90                      English-Roast-Beef-Allrecipes   65.789723  \n",
       "91  Spanish-Meatballs-_Albondigas_-with-Pintos_-Zu...   64.568017  \n",
       "92                       Moroccan-Spiced-Fish-1994862   64.183143  \n",
       "93  Stuffed-Grape-Leaves-with-Cucumber-Yogurt-Sauc...   63.909300  \n",
       "94    Tofu-Scramble-Recipe-Southwestern-Style-1994866   63.123103  \n",
       "95                      Vegan-Irish-Hand-Pies-1894258   62.451949  \n",
       "96  Thai-Red-Curry-Meatballs-with-Coconut-Curry-Sa...   61.285298  \n",
       "97                Spicy-Moroccan-Shrimp-Tagine-513928   61.187768  \n",
       "98       Sauerbraten-Beef-in-Gingersnap-Gravy-1540117   61.146492  \n",
       "99                   Spanish-rice-with-chicken-299070   61.071635  "
      ]
     },
     "metadata": {},
     "output_type": "display_data"
    }
   ],
   "source": [
    "top_k_with_titles = (top_k.join(data[['recipe_id']].drop_duplicates().set_index('recipe_id'), \n",
    "                                on='recipe_id', \n",
    "                                how='inner').sort_values(by=['username', 'Prediction'], ascending=False))\n",
    "display(top_k_with_titles.head(10))"
   ]
  },
  {
   "cell_type": "markdown",
   "metadata": {},
   "source": [
    "### 3.3 Evaluate the results\n",
    "\n",
    "It should be known that the recommendation scores generated by multiplying the item similarity matrix $S$ and the user affinity matrix $A$ **DOES NOT** have the same scale with the original explicit ratings in the movielens dataset. That is to say, SAR algorithm is meant for the task of *recommending relevent items to users* rather than *predicting explicit ratings for user-item pairs*. \n",
    "\n",
    "To this end, ranking metrics like precision@k, recall@k, etc., are more applicable to evaluate SAR algorithm. The following illustrates how to evaluate SAR model by using the evaluation functions provided in the `reco_utils`."
   ]
  },
  {
   "cell_type": "code",
   "execution_count": 167,
   "metadata": {},
   "outputs": [],
   "source": [
    "# all ranking metrics have the same arguments\n",
    "args = [test, top_k]\n",
    "kwargs = dict(col_user='username', \n",
    "              col_item='recipe_id', \n",
    "              col_rating='rating', \n",
    "              col_prediction='Prediction', \n",
    "              relevancy_method='top_k', \n",
    "              k=TOP_K)\n",
    "\n",
    "eval_map = map_at_k(*args, **kwargs)\n",
    "eval_ndcg = ndcg_at_k(*args, **kwargs)\n",
    "eval_precision = precision_at_k(*args, **kwargs)\n",
    "eval_recall = recall_at_k(*args, **kwargs)"
   ]
  },
  {
   "cell_type": "code",
   "execution_count": 168,
   "metadata": {},
   "outputs": [
    {
     "name": "stdout",
     "output_type": "stream",
     "text": [
      "Model:\n",
      "Top K:\t\t                             username  \\\n",
      "0               chinese_finesser_593   \n",
      "1               chinese_finesser_593   \n",
      "2               chinese_finesser_593   \n",
      "3               chinese_finesser_593   \n",
      "4               chinese_finesser_593   \n",
      "..                               ...   \n",
      "95  trang_only_eats_chinese_food_076   \n",
      "96  trang_only_eats_chinese_food_076   \n",
      "97  trang_only_eats_chinese_food_076   \n",
      "98  trang_only_eats_chinese_food_076   \n",
      "99  trang_only_eats_chinese_food_076   \n",
      "\n",
      "                                            recipe_id  Prediction  \n",
      "0                                   Dhal-Curry-983208   60.871190  \n",
      "1   Greek-Stuffed-Tomatoes-With-Quinoa-And-Black-L...   60.337195  \n",
      "2   Steamed-Scallops-with-Soy-Sauce-and-Garlic-Oil...   58.298650  \n",
      "3                 Spicy-Moroccan-Shrimp-Tagine-513928   57.690683  \n",
      "4   Thai-Red-Curry-Meatballs-with-Coconut-Curry-Sa...   57.348882  \n",
      "..                                                ...         ...  \n",
      "95                      Vegan-Irish-Hand-Pies-1894258   62.451949  \n",
      "96  Thai-Red-Curry-Meatballs-with-Coconut-Curry-Sa...   61.285298  \n",
      "97                Spicy-Moroccan-Shrimp-Tagine-513928   61.187768  \n",
      "98       Sauerbraten-Beef-in-Gingersnap-Gravy-1540117   61.146492  \n",
      "99                   Spanish-rice-with-chicken-299070   61.071635  \n",
      "\n",
      "[100 rows x 3 columns]\n",
      "MAP:\t\t 0.015071806500377932\n",
      "NDCG:\t\t 0.09953221428735604\n",
      "Precision@K:\t 0.11000000000000001\n",
      "Recall@K:\t 0.052380952380952375\n"
     ]
    }
   ],
   "source": [
    "print(\"Model:\", \n",
    "      \"Top K:\\t\\t {}\".format(top_k),\n",
    "      \"MAP:\\t\\t {}\".format(eval_map),\n",
    "      \"NDCG:\\t\\t {}\".format(eval_ndcg),\n",
    "      \"Precision@K:\\t {}\".format(eval_precision),\n",
    "      \"Recall@K:\\t {}\".format(eval_recall),sep='\\n')\n",
    "\n",
    "# print(\"Model:\",\n",
    "#       f\"Top K:\\t\\t {TOP_K:f}\",\n",
    "#       f\"MAP:\\t\\t {eval_map:f}\",\n",
    "#       f\"NDCG:\\t\\t {eval_ndcg:f}\",\n",
    "#       f\"Precision@K:\\t {eval_precision:f}\",\n",
    "#       f\"Recall@K:\\t {eval_recall:f}\", sep='\\n')"
   ]
  },
  {
   "cell_type": "markdown",
   "metadata": {},
   "source": [
    "## References\n",
    "Note SAR is a combinational algorithm that implements different industry heuristics. The followings are references that may be helpful in understanding the SAR logic and implementation. \n",
    "\n",
    "1. Badrul Sarwar, *et al*, \"Item-based collaborative filtering recommendation algorithms\", WWW, 2001.\n",
    "2. Scipy (sparse matrix), url: https://docs.scipy.org/doc/scipy/reference/sparse.html\n",
    "3. Asela Gunawardana and Guy Shani, \"A survey of accuracy evaluation metrics of recommendation tasks\", The Journal of Machine Learning Research, vol. 10, pp 2935-2962, 2009.\t"
   ]
  },
  {
   "cell_type": "code",
   "execution_count": null,
   "metadata": {},
   "outputs": [],
   "source": []
  }
 ],
 "metadata": {
  "anaconda-cloud": {},
  "kernelspec": {
   "display_name": "Python 3",
   "language": "python",
   "name": "python3"
  },
  "language_info": {
   "codemirror_mode": {
    "name": "ipython",
    "version": 3
   },
   "file_extension": ".py",
   "mimetype": "text/x-python",
   "name": "python",
   "nbconvert_exporter": "python",
   "pygments_lexer": "ipython3",
   "version": "3.7.3"
  }
 },
 "nbformat": 4,
 "nbformat_minor": 2
}
