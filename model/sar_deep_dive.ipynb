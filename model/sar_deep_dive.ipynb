{
 "cells": [
  {
   "cell_type": "markdown",
   "metadata": {},
   "source": [
    "<i>Copyright (c) Microsoft Corporation. All rights reserved.</i>\n",
    "\n",
    "<i>Licensed under the MIT License.</i>"
   ]
  },
  {
   "cell_type": "markdown",
   "metadata": {},
   "source": [
    "# SAR Single Node on MovieLens (Python, CPU)\n",
    "\n",
    "In this example, we will walk through each step of the Simple Algorithm for Recommendation (SAR) algorithm using a Python single-node implementation.\n",
    "\n",
    "SAR is a fast, scalable, adaptive algorithm for personalized recommendations based on user transaction history. It is powered by understanding the similarity between items, and recommending similar items to those a user has an existing affinity for."
   ]
  },
  {
   "cell_type": "markdown",
   "metadata": {},
   "source": [
    "## 1 SAR algorithm\n",
    "\n",
    "The following figure presents a high-level architecture of SAR. \n",
    "\n",
    "At a very high level, two intermediate matrices are created and used to generate a set of recommendation scores:\n",
    "\n",
    "- An item similarity matrix $S$ estimates item-item relationships.\n",
    "- An affinity matrix $A$ estimates user-item relationships.\n",
    "\n",
    "Recommendation scores are then created by computing the matrix multiplication $A\\times S$.\n",
    "\n",
    "Optional steps (e.g. \"time decay\" and \"remove seen items\") are described in the details below.\n",
    "\n",
    "<img src=\"https://recodatasets.blob.core.windows.net/images/sar_schema.svg?sanitize=true\">\n",
    "\n",
    "### 1.1 Compute item co-occurrence and item similarity\n",
    "\n",
    "SAR defines similarity based on item-to-item co-occurrence data. Co-occurrence is defined as the number of times two items appear together for a given user. We can represent the co-occurrence of all items as a $m\\times m$ matrix $C$, where $c_{i,j}$ is the number of times item $i$ occurred with item $j$, and $m$ is the total number of items.\n",
    "\n",
    "The co-occurence matric $C$ has the following properties:\n",
    "\n",
    "- It is symmetric, so $c_{i,j} = c_{j,i}$\n",
    "- It is nonnegative: $c_{i,j} \\geq 0$\n",
    "- The occurrences are at least as large as the co-occurrences. I.e., the largest element for each row (and column) is on the main diagonal: $\\forall(i,j) C_{i,i},C_{j,j} \\geq C_{i,j}$.\n",
    "\n",
    "Once we have a co-occurrence matrix, an item similarity matrix $S$ can be obtained by rescaling the co-occurrences according to a given metric. Options for the metric include `Jaccard`, `lift`, and `counts` (meaning no rescaling).\n",
    "\n",
    "\n",
    "If $c_{ii}$ and $c_{jj}$ are the $i$th and $j$th diagonal elements of $C$, the rescaling options are:\n",
    "\n",
    "- `Jaccard`: $s_{ij}=\\frac{c_{ij}}{(c_{ii}+c_{jj}-c_{ij})}$\n",
    "- `lift`: $s_{ij}=\\frac{c_{ij}}{(c_{ii} \\times c_{jj})}$\n",
    "- `counts`: $s_{ij}=c_{ij}$\n",
    "\n",
    "In general, using `counts` as a similarity metric favours predictability, meaning that the most popular items will be recommended most of the time. `lift` by contrast favours discoverability/serendipity: an item that is less popular overall but highly favoured by a small subset of users is more likely to be recommended. `Jaccard` is a compromise between the two.\n",
    "\n",
    "\n",
    "### 1.2 Compute user affinity scores\n",
    "\n",
    "The affinity matrix in SAR captures the strength of the relationship between each individual user and the items that user has already interacted with. SAR incorporates two factors that can impact users' affinities: \n",
    "\n",
    "- It can consider information about the **type** of user-item interaction through differential weighting of different events (e.g. it may weigh events in which a user rated a particular item more heavily than events in which a user viewed the item).\n",
    "- It can consider information about **when** a user-item event occurred (e.g. it may discount the value of events that take place in the distant past.\n",
    "\n",
    "Formalizing these factors produces us an expression for user-item affinity:\n",
    "\n",
    "$$a_{ij}=\\sum_k w_k \\left(\\frac{1}{2}\\right)^{\\frac{t_0-t_k}{T}} $$\n",
    "\n",
    "where the affinity $a_{ij}$ for user $i$ and item $j$ is the weighted sum of all $k$ events involving user $i$ and item $j$. $w_k$ represents the weight of a particular event, and the power of 2 term reflects the temporally-discounted event. The $(\\frac{1}{2})^n$ scaling factor causes the parameter $T$ to serve as a half-life: events $T$ units before $t_0$ will be given half the weight as those taking place at $t_0$.\n",
    "\n",
    "Repeating this computation for all $n$ users and $m$ items results in an $n\\times m$ matrix $A$. Simplifications of the above expression can be obtained by setting all the weights equal to 1 (effectively ignoring event types), or by setting the half-life parameter $T$ to infinity (ignoring transaction times).\n",
    "\n",
    "### 1.3 Remove seen item\n",
    "\n",
    "Optionally we remove items which have already been seen in the training set, i.e. don't recommend items which have been previously bought by the user again.\n",
    "\n",
    "### 1.4 Top-k item calculation\n",
    "\n",
    "The personalized recommendations for a set of users can then be obtained by multiplying the affinity matrix ($A$) by the similarity matrix ($S$). The result is a recommendation score matrix, where each row corresponds to a user, each column corresponds to an item, and each entry corresponds to a user / item pair. Higher scores correspond to more strongly recommended items.\n",
    "\n",
    "It is worth noting that the complexity of recommending operation depends on the data size. SAR algorithm itself has $O(n^3)$ complexity. Therefore the single-node implementation is not supposed to handle large dataset in a scalable manner. Whenever one uses the algorithm, it is recommended to run with sufficiently large memory. "
   ]
  },
  {
   "cell_type": "markdown",
   "metadata": {},
   "source": [
    "## 2 SAR single-node implementation\n",
    "\n",
    "The SAR implementation illustrated in this notebook was developed in Python, primarily with Python packages like `numpy`, `pandas`, and `scipy` which are commonly used in most of the data analytics / machine learning tasks. Details of the implementation can be found in [Recommenders/reco_utils/recommender/sar/sar_singlenode.py](../../reco_utils/recommender/sar/sar_singlenode.py)."
   ]
  },
  {
   "cell_type": "markdown",
   "metadata": {},
   "source": [
    "## 3 SAR single-node based movie recommender"
   ]
  },
  {
   "cell_type": "code",
   "execution_count": 1,
   "metadata": {},
   "outputs": [
    {
     "name": "stdout",
     "output_type": "stream",
     "text": [
      "System version: 3.7.3 (default, Oct  7 2019, 12:56:13) \n",
      "[GCC 8.3.0]\n",
      "Pandas version: 0.25.1\n"
     ]
    }
   ],
   "source": [
    "# set the environment path to find Recommenders\n",
    "import sys\n",
    "sys.path.append(\"../\")\n",
    "\n",
    "import itertools\n",
    "\n",
    "import logging\n",
    "import os\n",
    "\n",
    "import numpy as np\n",
    "import pandas as pd\n",
    "import papermill as pm\n",
    "\n",
    "from reco_utils.dataset import movielens\n",
    "from reco_utils.dataset.python_splitters import python_stratified_split\n",
    "from reco_utils.evaluation.python_evaluation import map_at_k, ndcg_at_k, precision_at_k, recall_at_k\n",
    "\n",
    "print(\"System version: {}\".format(sys.version))\n",
    "print(\"Pandas version: {}\".format(pd.__version__))"
   ]
  },
  {
   "cell_type": "code",
   "execution_count": 2,
   "metadata": {
    "tags": [
     "parameters"
    ]
   },
   "outputs": [],
   "source": [
    "# top k items to recommend\n",
    "TOP_K = 10"
   ]
  },
  {
   "cell_type": "markdown",
   "metadata": {},
   "source": [
    "### 3.1 Load Data\n",
    "\n",
    "SAR is intended to be used on interactions with the following schema:\n",
    "`<User ID>, <Item ID>, <Time>`. \n",
    "\n",
    "Each row represents a single interaction between a user and an item. These interactions might be different types of events on an e-commerce website, such as a user clicking to view an item, adding it to a shopping basket, following a recommendation link, and so on. \n",
    "\n",
    "The MovieLens dataset is well formatted interactions of Users providing Ratings to Movies (movie ratings are used as the event weight) - we will use it for the rest of the example."
   ]
  },
  {
   "cell_type": "code",
   "execution_count": 16,
   "metadata": {},
   "outputs": [],
   "source": [
    "data_dir = '../data'\n",
    "data_type = '/original' #original or synthetic\n",
    "data_path = data_dir + data_type\n",
    "review_ratio = 50\n",
    "n_users = 10\n",
    "n_recipes_per_cuisine = 10\n",
    "\n",
    "review_fn = '/recipe_reviews.csv'\n",
    "features_fn = '/recipe_features.csv'\n",
    "\n",
    "#review_fn = '/reviews/{}_users_{}_reviewratio.csv'.format(n_users, review_ratio)\n",
    "#features_fn = '/recipes/cuisine_size_{}.csv'.format(n_recipes_per_cuisine)"
   ]
  },
  {
   "cell_type": "code",
   "execution_count": 18,
   "metadata": {},
   "outputs": [],
   "source": [
    "\n",
    "data = pd.read_csv(data_path + review_fn, encoding = \"ISO-8859-1\",delimiter=\"|\")\n",
    "features = pd.read_csv(data_path + features_fn,encoding = \"ISO-8859-1\",delimiter=\"|\")\n",
    "\n",
    "# only keep recipes with reviews\n",
    "features = pd.merge(features, data, left_on='recipe_id', right_on='recipe_id', how=\"inner\")\n",
    "features = features[[\"recipe_id\", \"cuisine\", \"ingredients\"]]\n",
    "features = features.drop_duplicates().reset_index()\n",
    "features = features[[\"recipe_id\", \"cuisine\", \"ingredients\"]]\n",
    "\n",
    "# Convert ingredients column to list\n",
    "features[\"ingredients\"] = features[\"ingredients\"].apply(lambda a : a.split(\"+\"))\n",
    "\n",
    "# Convert the float precision to 32-bit in order to reduce memory consumption \n",
    "data.loc[:, 'rating'] = data['rating'].astype(np.float32)\n"
   ]
  },
  {
   "cell_type": "code",
   "execution_count": 19,
   "metadata": {},
   "outputs": [
    {
     "data": {
      "text/html": [
       "<div>\n",
       "<style scoped>\n",
       "    .dataframe tbody tr th:only-of-type {\n",
       "        vertical-align: middle;\n",
       "    }\n",
       "\n",
       "    .dataframe tbody tr th {\n",
       "        vertical-align: top;\n",
       "    }\n",
       "\n",
       "    .dataframe thead th {\n",
       "        text-align: right;\n",
       "    }\n",
       "</style>\n",
       "<table border=\"1\" class=\"dataframe\">\n",
       "  <thead>\n",
       "    <tr style=\"text-align: right;\">\n",
       "      <th></th>\n",
       "      <th>recipe_id</th>\n",
       "      <th>cuisine</th>\n",
       "      <th>ingredients</th>\n",
       "    </tr>\n",
       "  </thead>\n",
       "  <tbody>\n",
       "    <tr>\n",
       "      <td>0</td>\n",
       "      <td>246548</td>\n",
       "      <td>NaN</td>\n",
       "      <td>[1 pound beef tips, or more to taste, 1 tables...</td>\n",
       "    </tr>\n",
       "    <tr>\n",
       "      <td>1</td>\n",
       "      <td>141678</td>\n",
       "      <td>NaN</td>\n",
       "      <td>[1 (2 pound) pork tenderloin, 1 (12 fluid ounc...</td>\n",
       "    </tr>\n",
       "    <tr>\n",
       "      <td>2</td>\n",
       "      <td>78370</td>\n",
       "      <td>NaN</td>\n",
       "      <td>[1 pound ground beef, 1 egg, 1/4 cup bread cru...</td>\n",
       "    </tr>\n",
       "    <tr>\n",
       "      <td>3</td>\n",
       "      <td>16066</td>\n",
       "      <td>NaN</td>\n",
       "      <td>[2 (10.75 ounce) cans condensed cream of mushr...</td>\n",
       "    </tr>\n",
       "    <tr>\n",
       "      <td>4</td>\n",
       "      <td>24264</td>\n",
       "      <td>NaN</td>\n",
       "      <td>[1 pound lean ground beef, 1/4 cup chopped oni...</td>\n",
       "    </tr>\n",
       "  </tbody>\n",
       "</table>\n",
       "</div>"
      ],
      "text/plain": [
       "   recipe_id  cuisine                                        ingredients\n",
       "0     246548      NaN  [1 pound beef tips, or more to taste, 1 tables...\n",
       "1     141678      NaN  [1 (2 pound) pork tenderloin, 1 (12 fluid ounc...\n",
       "2      78370      NaN  [1 pound ground beef, 1 egg, 1/4 cup bread cru...\n",
       "3      16066      NaN  [2 (10.75 ounce) cans condensed cream of mushr...\n",
       "4      24264      NaN  [1 pound lean ground beef, 1/4 cup chopped oni..."
      ]
     },
     "execution_count": 19,
     "metadata": {},
     "output_type": "execute_result"
    }
   ],
   "source": [
    "features.head()"
   ]
  },
  {
   "cell_type": "code",
   "execution_count": 20,
   "metadata": {},
   "outputs": [
    {
     "data": {
      "text/html": [
       "<div>\n",
       "<style scoped>\n",
       "    .dataframe tbody tr th:only-of-type {\n",
       "        vertical-align: middle;\n",
       "    }\n",
       "\n",
       "    .dataframe tbody tr th {\n",
       "        vertical-align: top;\n",
       "    }\n",
       "\n",
       "    .dataframe thead th {\n",
       "        text-align: right;\n",
       "    }\n",
       "</style>\n",
       "<table border=\"1\" class=\"dataframe\">\n",
       "  <thead>\n",
       "    <tr style=\"text-align: right;\">\n",
       "      <th></th>\n",
       "      <th>recipe_id</th>\n",
       "      <th>author</th>\n",
       "      <th>rating</th>\n",
       "      <th>date</th>\n",
       "    </tr>\n",
       "  </thead>\n",
       "  <tbody>\n",
       "    <tr>\n",
       "      <td>0</td>\n",
       "      <td>246548</td>\n",
       "      <td>Cherry Jimenez</td>\n",
       "      <td>5.0</td>\n",
       "      <td>6/2/2018</td>\n",
       "    </tr>\n",
       "    <tr>\n",
       "      <td>1</td>\n",
       "      <td>246548</td>\n",
       "      <td>Lisa Marie Lindley-Wheelock</td>\n",
       "      <td>5.0</td>\n",
       "      <td>10/3/2016</td>\n",
       "    </tr>\n",
       "    <tr>\n",
       "      <td>2</td>\n",
       "      <td>246548</td>\n",
       "      <td>JohnRascal</td>\n",
       "      <td>2.0</td>\n",
       "      <td>9/24/2016</td>\n",
       "    </tr>\n",
       "    <tr>\n",
       "      <td>3</td>\n",
       "      <td>246548</td>\n",
       "      <td>Litamykel</td>\n",
       "      <td>5.0</td>\n",
       "      <td>10/3/2016</td>\n",
       "    </tr>\n",
       "    <tr>\n",
       "      <td>4</td>\n",
       "      <td>246548</td>\n",
       "      <td>Soup Loving Nicole ALLRECIPES ALLSTAR This rev...</td>\n",
       "      <td>5.0</td>\n",
       "      <td>3/15/2016</td>\n",
       "    </tr>\n",
       "  </tbody>\n",
       "</table>\n",
       "</div>"
      ],
      "text/plain": [
       "   recipe_id                                             author  rating  \\\n",
       "0     246548                                     Cherry Jimenez     5.0   \n",
       "1     246548                        Lisa Marie Lindley-Wheelock     5.0   \n",
       "2     246548                                         JohnRascal     2.0   \n",
       "3     246548                                          Litamykel     5.0   \n",
       "4     246548  Soup Loving Nicole ALLRECIPES ALLSTAR This rev...     5.0   \n",
       "\n",
       "        date  \n",
       "0   6/2/2018  \n",
       "1  10/3/2016  \n",
       "2  9/24/2016  \n",
       "3  10/3/2016  \n",
       "4  3/15/2016  "
      ]
     },
     "execution_count": 20,
     "metadata": {},
     "output_type": "execute_result"
    }
   ],
   "source": [
    "data.head()"
   ]
  },
  {
   "cell_type": "code",
   "execution_count": 21,
   "metadata": {},
   "outputs": [
    {
     "data": {
      "text/html": [
       "<div>\n",
       "<style scoped>\n",
       "    .dataframe tbody tr th:only-of-type {\n",
       "        vertical-align: middle;\n",
       "    }\n",
       "\n",
       "    .dataframe tbody tr th {\n",
       "        vertical-align: top;\n",
       "    }\n",
       "\n",
       "    .dataframe thead th {\n",
       "        text-align: right;\n",
       "    }\n",
       "</style>\n",
       "<table border=\"1\" class=\"dataframe\">\n",
       "  <thead>\n",
       "    <tr style=\"text-align: right;\">\n",
       "      <th></th>\n",
       "      <th>recipe_id</th>\n",
       "      <th>cuisine</th>\n",
       "    </tr>\n",
       "  </thead>\n",
       "  <tbody>\n",
       "    <tr>\n",
       "      <td>count</td>\n",
       "      <td>143.000000</td>\n",
       "      <td>0.0</td>\n",
       "    </tr>\n",
       "    <tr>\n",
       "      <td>mean</td>\n",
       "      <td>61067.629371</td>\n",
       "      <td>NaN</td>\n",
       "    </tr>\n",
       "    <tr>\n",
       "      <td>std</td>\n",
       "      <td>70287.951868</td>\n",
       "      <td>NaN</td>\n",
       "    </tr>\n",
       "    <tr>\n",
       "      <td>min</td>\n",
       "      <td>8495.000000</td>\n",
       "      <td>NaN</td>\n",
       "    </tr>\n",
       "    <tr>\n",
       "      <td>25%</td>\n",
       "      <td>15890.500000</td>\n",
       "      <td>NaN</td>\n",
       "    </tr>\n",
       "    <tr>\n",
       "      <td>50%</td>\n",
       "      <td>24264.000000</td>\n",
       "      <td>NaN</td>\n",
       "    </tr>\n",
       "    <tr>\n",
       "      <td>75%</td>\n",
       "      <td>79784.000000</td>\n",
       "      <td>NaN</td>\n",
       "    </tr>\n",
       "    <tr>\n",
       "      <td>max</td>\n",
       "      <td>274192.000000</td>\n",
       "      <td>NaN</td>\n",
       "    </tr>\n",
       "  </tbody>\n",
       "</table>\n",
       "</div>"
      ],
      "text/plain": [
       "           recipe_id  cuisine\n",
       "count     143.000000      0.0\n",
       "mean    61067.629371      NaN\n",
       "std     70287.951868      NaN\n",
       "min      8495.000000      NaN\n",
       "25%     15890.500000      NaN\n",
       "50%     24264.000000      NaN\n",
       "75%     79784.000000      NaN\n",
       "max    274192.000000      NaN"
      ]
     },
     "execution_count": 21,
     "metadata": {},
     "output_type": "execute_result"
    }
   ],
   "source": [
    "#print(data.columns)\n",
    "features.describe()"
   ]
  },
  {
   "cell_type": "markdown",
   "metadata": {},
   "source": [
    "### 3.2 Split the data using the python random splitter provided in utilities:\n",
    "\n",
    "We split the full dataset into a `train` and `test` dataset to evaluate performance of the algorithm against a held-out set not seen during training. Because SAR generates recommendations based on user preferences, all users that are in the test set must also exist in the training set. For this case, we can use the provided `python_stratified_split` function which holds out a percentage (in this case 25%) of items from each user, but ensures all users are in both `train` and `test` datasets. Other options are available in the `dataset.python_splitters` module which provide more control over how the split occurs.\n"
   ]
  },
  {
   "cell_type": "code",
   "execution_count": 24,
   "metadata": {},
   "outputs": [],
   "source": [
    "header = {\n",
    "    \"col_user\": \"author\",\n",
    "    \"col_item\": \"recipe_id\",\n",
    "    \"col_rating\": \"rating\",\n",
    "    \"col_timestamp\": \"date\",\n",
    "    \"col_prediction\": \"Prediction\",\n",
    "}"
   ]
  },
  {
   "cell_type": "code",
   "execution_count": 25,
   "metadata": {},
   "outputs": [
    {
     "name": "stdout",
     "output_type": "stream",
     "text": [
      "(19059, 4)\n",
      "(1185, 4)\n"
     ]
    }
   ],
   "source": [
    "train, test = python_stratified_split(data, ratio=0.80, col_user=header[\"col_user\"], col_item=header[\"col_item\"],seed=42)\n",
    "print(train.shape)\n",
    "print(test.shape)"
   ]
  },
  {
   "cell_type": "markdown",
   "metadata": {},
   "source": [
    "In this case, for the illustration purpose, the following parameter values are used:\n",
    "\n",
    "|Parameter|Value|Description|\n",
    "|---------|---------|-------------|\n",
    "|`similarity_type`|`jaccard`|Method used to calculate item similarity.|\n",
    "|`time_decay_coefficient`|30|Period in days (term of $T$ shown in the formula of Section 2.2.2)|\n",
    "|`time_now`|`None`|Time decay reference.|\n",
    "|`timedecay_formula`|`True`|Whether time decay formula is used.|"
   ]
  },
  {
   "cell_type": "code",
   "execution_count": 26,
   "metadata": {},
   "outputs": [],
   "source": [
    "#V1 (key error)\n",
    "# set log level to INFO\n",
    "\n",
    "#from reco_utils.recommender.sar.sar_singlenode import SARSingleNode\n",
    "\n",
    "#logging.basicConfig(level=logging.DEBUG, \n",
    "#                    format='%(asctime)s %(levelname)-8s %(message)s')\n",
    "\n",
    "#model = SARSingleNode(\n",
    "#    recipes=features, #FIX\n",
    "#    similarity_type=\"custom\", \n",
    "#    time_decay_coefficient=30, \n",
    "#    time_now=None, \n",
    "#    timedecay_formula=False, #add recipes to node CAN SET THIS TO TRUE LATER BUT LETS LEAVE IT FOR NOW\n",
    "#    **header\n",
    "#)\n",
    "\n",
    "\n",
    "#model.fit(train)"
   ]
  },
  {
   "cell_type": "code",
   "execution_count": 27,
   "metadata": {},
   "outputs": [
    {
     "name": "stderr",
     "output_type": "stream",
     "text": [
      "2019-12-08 16:29:35,016 INFO     Collecting user affinity matrix\n",
      "2019-12-08 16:29:35,020 INFO     De-duplicating the user-item counts\n",
      "2019-12-08 16:29:35,031 INFO     Creating index columns\n",
      "2019-12-08 16:29:35,071 INFO     Building user affinity sparse matrix\n",
      "2019-12-08 16:29:35,073 INFO     Calculating item co-occurrence\n",
      "2019-12-08 16:29:35,077 INFO     Calculating item similarity\n",
      "2019-12-08 16:29:48,572 INFO     Done training\n"
     ]
    }
   ],
   "source": [
    "#V2\n",
    "# set log level to INFO\n",
    "from reco_utils_2.recommender.sar.sar_singlenode import SARSingleNode\n",
    "\n",
    "logging.basicConfig(level=logging.DEBUG, \n",
    "                    format='%(asctime)s %(levelname)-8s %(message)s')\n",
    "\n",
    "model = SARSingleNode(\n",
    "    similarity_type=\"custom\", \n",
    "    time_decay_coefficient=30, \n",
    "    time_now=None, \n",
    "    timedecay_formula=False, #add recipes to node CAN SET THIS TO TRUE LATER BUT LETS LEAVE IT FOR NOW\n",
    "    **header\n",
    ")\n",
    "\n",
    "jaccard = lambda a,b: len(set(a).intersection(set(b)))/len(set(a).union(set(b)))\n",
    "model.fit(train, features, \"recipe_id\", {\"ratings\" : 0.5, \"ingredients\" : (0.5, jaccard)})"
   ]
  },
  {
   "cell_type": "code",
   "execution_count": 28,
   "metadata": {
    "scrolled": false
   },
   "outputs": [
    {
     "name": "stderr",
     "output_type": "stream",
     "text": [
      "2019-12-08 16:29:56,019 INFO     Calculating recommendation scores\n",
      "2019-12-08 16:29:56,030 INFO     Removing seen items\n"
     ]
    },
    {
     "data": {
      "text/html": [
       "<div>\n",
       "<style scoped>\n",
       "    .dataframe tbody tr th:only-of-type {\n",
       "        vertical-align: middle;\n",
       "    }\n",
       "\n",
       "    .dataframe tbody tr th {\n",
       "        vertical-align: top;\n",
       "    }\n",
       "\n",
       "    .dataframe thead th {\n",
       "        text-align: right;\n",
       "    }\n",
       "</style>\n",
       "<table border=\"1\" class=\"dataframe\">\n",
       "  <thead>\n",
       "    <tr style=\"text-align: right;\">\n",
       "      <th></th>\n",
       "      <th>author</th>\n",
       "      <th>recipe_id</th>\n",
       "      <th>Prediction</th>\n",
       "    </tr>\n",
       "  </thead>\n",
       "  <tbody>\n",
       "    <tr>\n",
       "      <td>0</td>\n",
       "      <td>\"Flowerchild\"</td>\n",
       "      <td>16352</td>\n",
       "      <td>0.281307</td>\n",
       "    </tr>\n",
       "    <tr>\n",
       "      <td>1</td>\n",
       "      <td>\"Flowerchild\"</td>\n",
       "      <td>8495</td>\n",
       "      <td>0.274036</td>\n",
       "    </tr>\n",
       "    <tr>\n",
       "      <td>2</td>\n",
       "      <td>\"Flowerchild\"</td>\n",
       "      <td>16354</td>\n",
       "      <td>0.244066</td>\n",
       "    </tr>\n",
       "    <tr>\n",
       "      <td>3</td>\n",
       "      <td>\"Flowerchild\"</td>\n",
       "      <td>78370</td>\n",
       "      <td>0.203502</td>\n",
       "    </tr>\n",
       "    <tr>\n",
       "      <td>4</td>\n",
       "      <td>\"Flowerchild\"</td>\n",
       "      <td>12009</td>\n",
       "      <td>0.181720</td>\n",
       "    </tr>\n",
       "  </tbody>\n",
       "</table>\n",
       "</div>"
      ],
      "text/plain": [
       "          author  recipe_id  Prediction\n",
       "0  \"Flowerchild\"      16352    0.281307\n",
       "1  \"Flowerchild\"       8495    0.274036\n",
       "2  \"Flowerchild\"      16354    0.244066\n",
       "3  \"Flowerchild\"      78370    0.203502\n",
       "4  \"Flowerchild\"      12009    0.181720"
      ]
     },
     "execution_count": 28,
     "metadata": {},
     "output_type": "execute_result"
    }
   ],
   "source": [
    "top_k = model.recommend_k_items(train, remove_seen=True)\n",
    "top_k.head()"
   ]
  },
  {
   "cell_type": "markdown",
   "metadata": {},
   "source": [
    "The final output from the `recommend_k_items` method generates recommendation scores for each user-item pair, which are shown as follows."
   ]
  },
  {
   "cell_type": "code",
   "execution_count": 29,
   "metadata": {
    "scrolled": true
   },
   "outputs": [
    {
     "data": {
      "text/html": [
       "<div>\n",
       "<style scoped>\n",
       "    .dataframe tbody tr th:only-of-type {\n",
       "        vertical-align: middle;\n",
       "    }\n",
       "\n",
       "    .dataframe tbody tr th {\n",
       "        vertical-align: top;\n",
       "    }\n",
       "\n",
       "    .dataframe thead th {\n",
       "        text-align: right;\n",
       "    }\n",
       "</style>\n",
       "<table border=\"1\" class=\"dataframe\">\n",
       "  <thead>\n",
       "    <tr style=\"text-align: right;\">\n",
       "      <th></th>\n",
       "      <th>author</th>\n",
       "      <th>recipe_id</th>\n",
       "      <th>Prediction</th>\n",
       "    </tr>\n",
       "  </thead>\n",
       "  <tbody>\n",
       "    <tr>\n",
       "      <td>147570</td>\n",
       "      <td>â Angelaâ</td>\n",
       "      <td>78370</td>\n",
       "      <td>0.272272</td>\n",
       "    </tr>\n",
       "    <tr>\n",
       "      <td>147572</td>\n",
       "      <td>â Angelaâ</td>\n",
       "      <td>55860</td>\n",
       "      <td>0.178528</td>\n",
       "    </tr>\n",
       "    <tr>\n",
       "      <td>147574</td>\n",
       "      <td>â Angelaâ</td>\n",
       "      <td>8847</td>\n",
       "      <td>0.178528</td>\n",
       "    </tr>\n",
       "    <tr>\n",
       "      <td>147573</td>\n",
       "      <td>â Angelaâ</td>\n",
       "      <td>11967</td>\n",
       "      <td>0.178528</td>\n",
       "    </tr>\n",
       "    <tr>\n",
       "      <td>147571</td>\n",
       "      <td>â Angelaâ</td>\n",
       "      <td>9044</td>\n",
       "      <td>0.178528</td>\n",
       "    </tr>\n",
       "    <tr>\n",
       "      <td>147575</td>\n",
       "      <td>â Angelaâ</td>\n",
       "      <td>9038</td>\n",
       "      <td>0.166626</td>\n",
       "    </tr>\n",
       "    <tr>\n",
       "      <td>147576</td>\n",
       "      <td>â Angelaâ</td>\n",
       "      <td>15715</td>\n",
       "      <td>0.165865</td>\n",
       "    </tr>\n",
       "    <tr>\n",
       "      <td>147577</td>\n",
       "      <td>â Angelaâ</td>\n",
       "      <td>219164</td>\n",
       "      <td>0.165792</td>\n",
       "    </tr>\n",
       "    <tr>\n",
       "      <td>147578</td>\n",
       "      <td>â Angelaâ</td>\n",
       "      <td>16954</td>\n",
       "      <td>0.165441</td>\n",
       "    </tr>\n",
       "    <tr>\n",
       "      <td>147579</td>\n",
       "      <td>â Angelaâ</td>\n",
       "      <td>85452</td>\n",
       "      <td>0.156250</td>\n",
       "    </tr>\n",
       "  </tbody>\n",
       "</table>\n",
       "</div>"
      ],
      "text/plain": [
       "              author  recipe_id  Prediction\n",
       "147570  â Angelaâ       78370    0.272272\n",
       "147572  â Angelaâ       55860    0.178528\n",
       "147574  â Angelaâ        8847    0.178528\n",
       "147573  â Angelaâ       11967    0.178528\n",
       "147571  â Angelaâ        9044    0.178528\n",
       "147575  â Angelaâ        9038    0.166626\n",
       "147576  â Angelaâ       15715    0.165865\n",
       "147577  â Angelaâ      219164    0.165792\n",
       "147578  â Angelaâ       16954    0.165441\n",
       "147579  â Angelaâ       85452    0.156250"
      ]
     },
     "metadata": {},
     "output_type": "display_data"
    }
   ],
   "source": [
    "top_k_with_titles = (top_k.join(data[['recipe_id']].drop_duplicates().set_index('recipe_id'), \n",
    "                                on='recipe_id', \n",
    "                                how='inner').sort_values(by=['author', 'Prediction'], ascending=False))\n",
    "display(top_k_with_titles.head(10))"
   ]
  },
  {
   "cell_type": "markdown",
   "metadata": {},
   "source": [
    "### 3.3 Evaluate the results\n",
    "\n",
    "It should be known that the recommendation scores generated by multiplying the item similarity matrix $S$ and the user affinity matrix $A$ **DOES NOT** have the same scale with the original explicit ratings in the movielens dataset. That is to say, SAR algorithm is meant for the task of *recommending relevent items to users* rather than *predicting explicit ratings for user-item pairs*. \n",
    "\n",
    "To this end, ranking metrics like precision@k, recall@k, etc., are more applicable to evaluate SAR algorithm. The following illustrates how to evaluate SAR model by using the evaluation functions provided in the `reco_utils`."
   ]
  },
  {
   "cell_type": "code",
   "execution_count": null,
   "metadata": {},
   "outputs": [],
   "source": [
    "# all ranking metrics have the same arguments\n",
    "args = [test, top_k]\n",
    "kwargs = dict(col_user='author', \n",
    "              col_item='recipe_id', \n",
    "              col_rating='rating', \n",
    "              col_prediction='Prediction', \n",
    "              relevancy_method='top_k', \n",
    "              k=TOP_K)\n",
    "\n",
    "eval_map = map_at_k(*args, **kwargs)\n",
    "eval_ndcg = ndcg_at_k(*args, **kwargs)\n",
    "eval_precision = precision_at_k(*args, **kwargs)\n",
    "eval_recall = recall_at_k(*args, **kwargs)"
   ]
  },
  {
   "cell_type": "code",
   "execution_count": null,
   "metadata": {},
   "outputs": [],
   "source": [
    "print(\"Model:\", \n",
    "      \"Top K:\\t\\t {}\".format(top_k),\n",
    "      \"MAP:\\t\\t {}\".format(eval_map),\n",
    "      \"NDCG:\\t\\t {}\".format(eval_ndcg),\n",
    "      \"Precision@K:\\t {}\".format(eval_precision),\n",
    "      \"Recall@K:\\t {}\".format(eval_recall),sep='\\n')\n",
    "\n",
    "# print(\"Model:\",\n",
    "#       f\"Top K:\\t\\t {TOP_K:f}\",\n",
    "#       f\"MAP:\\t\\t {eval_map:f}\",\n",
    "#       f\"NDCG:\\t\\t {eval_ndcg:f}\",\n",
    "#       f\"Precision@K:\\t {eval_precision:f}\",\n",
    "#       f\"Recall@K:\\t {eval_recall:f}\", sep='\\n')"
   ]
  },
  {
   "cell_type": "markdown",
   "metadata": {},
   "source": [
    "## References\n",
    "Note SAR is a combinational algorithm that implements different industry heuristics. The followings are references that may be helpful in understanding the SAR logic and implementation. \n",
    "\n",
    "1. Badrul Sarwar, *et al*, \"Item-based collaborative filtering recommendation algorithms\", WWW, 2001.\n",
    "2. Scipy (sparse matrix), url: https://docs.scipy.org/doc/scipy/reference/sparse.html\n",
    "3. Asela Gunawardana and Guy Shani, \"A survey of accuracy evaluation metrics of recommendation tasks\", The Journal of Machine Learning Research, vol. 10, pp 2935-2962, 2009.\t"
   ]
  },
  {
   "cell_type": "code",
   "execution_count": null,
   "metadata": {},
   "outputs": [],
   "source": []
  },
  {
   "cell_type": "code",
   "execution_count": null,
   "metadata": {},
   "outputs": [],
   "source": []
  }
 ],
 "metadata": {
  "anaconda-cloud": {},
  "kernelspec": {
   "display_name": "Python 3",
   "language": "python",
   "name": "python3"
  },
  "language_info": {
   "codemirror_mode": {
    "name": "ipython",
    "version": 3
   },
   "file_extension": ".py",
   "mimetype": "text/x-python",
   "name": "python",
   "nbconvert_exporter": "python",
   "pygments_lexer": "ipython3",
   "version": "3.7.3"
  }
 },
 "nbformat": 4,
 "nbformat_minor": 2
}
