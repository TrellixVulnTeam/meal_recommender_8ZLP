{
 "cells": [
  {
   "cell_type": "code",
   "execution_count": 3,
   "metadata": {},
   "outputs": [],
   "source": [
    "import pandas as pd\n",
    "import numpy as np\n",
    "import matplotlib.pyplot as plt\n",
    "import seaborn as sns\n",
    "from eval_nondeterministic import evaluate"
   ]
  },
  {
   "cell_type": "code",
   "execution_count": 12,
   "metadata": {},
   "outputs": [],
   "source": [
    "n_users = [10, 20, 30]\n",
    "ratio = [0.1, 0.3, 0.5, 1]\n",
    "recipes_per_cuisine = 50\n",
    "weight_rating_features = 0.5\n",
    "top_k = [1, 2, 3, 5]"
   ]
  },
  {
   "cell_type": "code",
   "execution_count": 10,
   "metadata": {
    "collapsed": true
   },
   "outputs": [
    {
     "name": "stdout",
     "output_type": "stream",
     "text": [
      "\n",
      "evaluating for:\n",
      "n_users = 10\n",
      "n_recipes_per_cuisine = 50\n",
      "review_ratio= 0.1\n",
      "review_ratio_fav = 0.1\n",
      "\n",
      "\tfound recipe dataset\n",
      "\tcreating review datasets\n"
     ]
    },
    {
     "name": "stderr",
     "output_type": "stream",
     "text": [
      "/home/anton/.local/lib/python3.7/site-packages/pandas/core/frame.py:7123: FutureWarning: Sorting because non-concatenation axis is not aligned. A future version\n",
      "of pandas will change to not sort by default.\n",
      "\n",
      "To accept the future behavior, pass 'sort=False'.\n",
      "\n",
      "To retain the current behavior and silence the warning, pass 'sort=True'.\n",
      "\n",
      "  sort=sort,\n",
      "Number of items is less than top_k, limiting top_k to number of items\n",
      "Number of items is less than top_k, limiting top_k to number of items\n"
     ]
    },
    {
     "name": "stdout",
     "output_type": "stream",
     "text": [
      "\ttraining model\n",
      "\tscoring\n"
     ]
    },
    {
     "name": "stderr",
     "output_type": "stream",
     "text": [
      "Number of items is less than top_k, limiting top_k to number of items\n",
      "Number of items is less than top_k, limiting top_k to number of items\n"
     ]
    },
    {
     "name": "stdout",
     "output_type": "stream",
     "text": [
      "Done!\n",
      "\n",
      "Scores:\n",
      "k:\t [1, 2, 3, 5]\n",
      "absolute:\t [0.0, 0.15, 0.13333333333333333, 0.22]\n",
      "relative:\t [0.0, 1.575, 0.9333333333333333, 0.924]\n",
      "\n",
      "evaluating for:\n",
      "n_users = 20\n",
      "n_recipes_per_cuisine = 50\n",
      "review_ratio= 0.1\n",
      "review_ratio_fav = 0.1\n",
      "\n",
      "\tfound recipe dataset\n",
      "\tcreating review datasets\n"
     ]
    },
    {
     "name": "stderr",
     "output_type": "stream",
     "text": [
      "/home/anton/.local/lib/python3.7/site-packages/pandas/core/frame.py:7123: FutureWarning: Sorting because non-concatenation axis is not aligned. A future version\n",
      "of pandas will change to not sort by default.\n",
      "\n",
      "To accept the future behavior, pass 'sort=False'.\n",
      "\n",
      "To retain the current behavior and silence the warning, pass 'sort=True'.\n",
      "\n",
      "  sort=sort,\n",
      "Number of items is less than top_k, limiting top_k to number of items\n"
     ]
    },
    {
     "name": "stdout",
     "output_type": "stream",
     "text": [
      "\ttraining model\n",
      "\tscoring\n"
     ]
    },
    {
     "name": "stderr",
     "output_type": "stream",
     "text": [
      "Number of items is less than top_k, limiting top_k to number of items\n",
      "Number of items is less than top_k, limiting top_k to number of items\n",
      "Number of items is less than top_k, limiting top_k to number of items\n"
     ]
    },
    {
     "name": "stdout",
     "output_type": "stream",
     "text": [
      "Done!\n",
      "\n",
      "Scores:\n",
      "k:\t [1, 2, 3, 5]\n",
      "absolute:\t [0.3, 0.325, 0.31666666666666665, 0.36]\n",
      "relative:\t [6.3, 3.4125, 2.216666666666667, 1.512]\n",
      "\n",
      "evaluating for:\n",
      "n_users = 30\n",
      "n_recipes_per_cuisine = 50\n",
      "review_ratio= 0.1\n",
      "review_ratio_fav = 0.1\n",
      "\n",
      "\tfound recipe dataset\n",
      "\tcreating review datasets\n"
     ]
    },
    {
     "name": "stderr",
     "output_type": "stream",
     "text": [
      "/home/anton/.local/lib/python3.7/site-packages/pandas/core/frame.py:7123: FutureWarning: Sorting because non-concatenation axis is not aligned. A future version\n",
      "of pandas will change to not sort by default.\n",
      "\n",
      "To accept the future behavior, pass 'sort=False'.\n",
      "\n",
      "To retain the current behavior and silence the warning, pass 'sort=True'.\n",
      "\n",
      "  sort=sort,\n",
      "Number of items is less than top_k, limiting top_k to number of items\n"
     ]
    },
    {
     "name": "stdout",
     "output_type": "stream",
     "text": [
      "\ttraining model\n",
      "\tscoring\n"
     ]
    },
    {
     "name": "stderr",
     "output_type": "stream",
     "text": [
      "Number of items is less than top_k, limiting top_k to number of items\n",
      "Number of items is less than top_k, limiting top_k to number of items\n",
      "Number of items is less than top_k, limiting top_k to number of items\n"
     ]
    },
    {
     "name": "stdout",
     "output_type": "stream",
     "text": [
      "Done!\n",
      "\n",
      "Scores:\n",
      "k:\t [1, 2, 3, 5]\n",
      "absolute:\t [0.36666666666666664, 0.31666666666666665, 0.34444444444444444, 0.37333333333333335]\n",
      "relative:\t [7.7, 3.325, 2.4111111111111114, 1.568]\n",
      "\n",
      "evaluating for:\n",
      "n_users = 10\n",
      "n_recipes_per_cuisine = 50\n",
      "review_ratio= 0.3\n",
      "review_ratio_fav = 0.3\n",
      "\n",
      "\tfound recipe dataset\n",
      "\tcreating review datasets\n"
     ]
    },
    {
     "name": "stderr",
     "output_type": "stream",
     "text": [
      "/home/anton/.local/lib/python3.7/site-packages/pandas/core/frame.py:7123: FutureWarning: Sorting because non-concatenation axis is not aligned. A future version\n",
      "of pandas will change to not sort by default.\n",
      "\n",
      "To accept the future behavior, pass 'sort=False'.\n",
      "\n",
      "To retain the current behavior and silence the warning, pass 'sort=True'.\n",
      "\n",
      "  sort=sort,\n",
      "Number of items is less than top_k, limiting top_k to number of items\n",
      "Number of items is less than top_k, limiting top_k to number of items\n"
     ]
    },
    {
     "name": "stdout",
     "output_type": "stream",
     "text": [
      "\ttraining model\n",
      "\tscoring\n"
     ]
    },
    {
     "name": "stderr",
     "output_type": "stream",
     "text": [
      "Number of items is less than top_k, limiting top_k to number of items\n",
      "Number of items is less than top_k, limiting top_k to number of items\n"
     ]
    },
    {
     "name": "stdout",
     "output_type": "stream",
     "text": [
      "Done!\n",
      "\n",
      "Scores:\n",
      "k:\t [1, 2, 3, 5]\n",
      "absolute:\t [0.0, 0.1, 0.13333333333333333, 0.16]\n",
      "relative:\t [0.0, 3.1500000000000004, 2.8000000000000003, 2.016]\n",
      "\n",
      "evaluating for:\n",
      "n_users = 20\n",
      "n_recipes_per_cuisine = 50\n",
      "review_ratio= 0.3\n",
      "review_ratio_fav = 0.3\n",
      "\n",
      "\tfound recipe dataset\n",
      "\tcreating review datasets\n"
     ]
    },
    {
     "name": "stderr",
     "output_type": "stream",
     "text": [
      "/home/anton/.local/lib/python3.7/site-packages/pandas/core/frame.py:7123: FutureWarning: Sorting because non-concatenation axis is not aligned. A future version\n",
      "of pandas will change to not sort by default.\n",
      "\n",
      "To accept the future behavior, pass 'sort=False'.\n",
      "\n",
      "To retain the current behavior and silence the warning, pass 'sort=True'.\n",
      "\n",
      "  sort=sort,\n",
      "Number of items is less than top_k, limiting top_k to number of items\n"
     ]
    },
    {
     "name": "stdout",
     "output_type": "stream",
     "text": [
      "\ttraining model\n",
      "\tscoring\n"
     ]
    },
    {
     "name": "stderr",
     "output_type": "stream",
     "text": [
      "Number of items is less than top_k, limiting top_k to number of items\n",
      "Number of items is less than top_k, limiting top_k to number of items\n",
      "Number of items is less than top_k, limiting top_k to number of items\n"
     ]
    },
    {
     "name": "stdout",
     "output_type": "stream",
     "text": [
      "Done!\n",
      "\n",
      "Scores:\n",
      "k:\t [1, 2, 3, 5]\n",
      "absolute:\t [0.15, 0.2, 0.2, 0.21]\n",
      "relative:\t [9.45, 6.300000000000001, 4.2, 2.646]\n",
      "\n",
      "evaluating for:\n",
      "n_users = 30\n",
      "n_recipes_per_cuisine = 50\n",
      "review_ratio= 0.3\n",
      "review_ratio_fav = 0.3\n",
      "\n",
      "\tfound recipe dataset\n",
      "\tcreating review datasets\n"
     ]
    },
    {
     "name": "stderr",
     "output_type": "stream",
     "text": [
      "/home/anton/.local/lib/python3.7/site-packages/pandas/core/frame.py:7123: FutureWarning: Sorting because non-concatenation axis is not aligned. A future version\n",
      "of pandas will change to not sort by default.\n",
      "\n",
      "To accept the future behavior, pass 'sort=False'.\n",
      "\n",
      "To retain the current behavior and silence the warning, pass 'sort=True'.\n",
      "\n",
      "  sort=sort,\n",
      "Number of items is less than top_k, limiting top_k to number of items\n"
     ]
    },
    {
     "name": "stdout",
     "output_type": "stream",
     "text": [
      "\ttraining model\n",
      "\tscoring\n"
     ]
    },
    {
     "name": "stderr",
     "output_type": "stream",
     "text": [
      "Number of items is less than top_k, limiting top_k to number of items\n",
      "Number of items is less than top_k, limiting top_k to number of items\n",
      "Number of items is less than top_k, limiting top_k to number of items\n"
     ]
    },
    {
     "name": "stdout",
     "output_type": "stream",
     "text": [
      "Done!\n",
      "\n",
      "Scores:\n",
      "k:\t [1, 2, 3, 5]\n",
      "absolute:\t [0.3, 0.21666666666666667, 0.24444444444444444, 0.26666666666666666]\n",
      "relative:\t [18.9, 6.825, 5.133333333333334, 3.3600000000000003]\n",
      "\n",
      "evaluating for:\n",
      "n_users = 10\n",
      "n_recipes_per_cuisine = 50\n",
      "review_ratio= 0.5\n",
      "review_ratio_fav = 0.5\n",
      "\n",
      "\tfound recipe dataset\n",
      "\tfound review datasets\n"
     ]
    },
    {
     "name": "stderr",
     "output_type": "stream",
     "text": [
      "/home/anton/.local/lib/python3.7/site-packages/pandas/core/frame.py:7123: FutureWarning: Sorting because non-concatenation axis is not aligned. A future version\n",
      "of pandas will change to not sort by default.\n",
      "\n",
      "To accept the future behavior, pass 'sort=False'.\n",
      "\n",
      "To retain the current behavior and silence the warning, pass 'sort=True'.\n",
      "\n",
      "  sort=sort,\n",
      "Number of items is less than top_k, limiting top_k to number of items\n"
     ]
    },
    {
     "name": "stdout",
     "output_type": "stream",
     "text": [
      "\ttraining model\n",
      "\tscoring\n"
     ]
    },
    {
     "name": "stderr",
     "output_type": "stream",
     "text": [
      "Number of items is less than top_k, limiting top_k to number of items\n",
      "Number of items is less than top_k, limiting top_k to number of items\n",
      "Number of items is less than top_k, limiting top_k to number of items\n"
     ]
    },
    {
     "name": "stdout",
     "output_type": "stream",
     "text": [
      "Done!\n",
      "\n",
      "Scores:\n",
      "k:\t [1, 2, 3, 5]\n",
      "absolute:\t [0.4, 0.25, 0.2, 0.28]\n",
      "relative:\t [42.0, 13.124999999999998, 7.000000000000001, 5.880000000000001]\n",
      "\n",
      "evaluating for:\n",
      "n_users = 20\n",
      "n_recipes_per_cuisine = 50\n",
      "review_ratio= 0.5\n",
      "review_ratio_fav = 0.5\n",
      "\n",
      "\tfound recipe dataset\n",
      "\tcreating review datasets\n"
     ]
    },
    {
     "name": "stderr",
     "output_type": "stream",
     "text": [
      "/home/anton/.local/lib/python3.7/site-packages/pandas/core/frame.py:7123: FutureWarning: Sorting because non-concatenation axis is not aligned. A future version\n",
      "of pandas will change to not sort by default.\n",
      "\n",
      "To accept the future behavior, pass 'sort=False'.\n",
      "\n",
      "To retain the current behavior and silence the warning, pass 'sort=True'.\n",
      "\n",
      "  sort=sort,\n",
      "Number of items is less than top_k, limiting top_k to number of items\n"
     ]
    },
    {
     "name": "stdout",
     "output_type": "stream",
     "text": [
      "\ttraining model\n",
      "\tscoring\n"
     ]
    },
    {
     "name": "stderr",
     "output_type": "stream",
     "text": [
      "Number of items is less than top_k, limiting top_k to number of items\n",
      "Number of items is less than top_k, limiting top_k to number of items\n",
      "Number of items is less than top_k, limiting top_k to number of items\n"
     ]
    },
    {
     "name": "stdout",
     "output_type": "stream",
     "text": [
      "Done!\n",
      "\n",
      "Scores:\n",
      "k:\t [1, 2, 3, 5]\n",
      "absolute:\t [0.3, 0.2, 0.18333333333333332, 0.23]\n",
      "relative:\t [31.499999999999996, 10.5, 6.416666666666666, 4.83]\n",
      "\n",
      "evaluating for:\n",
      "n_users = 30\n",
      "n_recipes_per_cuisine = 50\n",
      "review_ratio= 0.5\n",
      "review_ratio_fav = 0.5\n",
      "\n",
      "\tfound recipe dataset\n",
      "\tcreating review datasets\n"
     ]
    },
    {
     "name": "stderr",
     "output_type": "stream",
     "text": [
      "/home/anton/.local/lib/python3.7/site-packages/pandas/core/frame.py:7123: FutureWarning: Sorting because non-concatenation axis is not aligned. A future version\n",
      "of pandas will change to not sort by default.\n",
      "\n",
      "To accept the future behavior, pass 'sort=False'.\n",
      "\n",
      "To retain the current behavior and silence the warning, pass 'sort=True'.\n",
      "\n",
      "  sort=sort,\n",
      "Number of items is less than top_k, limiting top_k to number of items\n"
     ]
    },
    {
     "name": "stdout",
     "output_type": "stream",
     "text": [
      "\ttraining model\n",
      "\tscoring\n"
     ]
    },
    {
     "name": "stderr",
     "output_type": "stream",
     "text": [
      "Number of items is less than top_k, limiting top_k to number of items\n",
      "Number of items is less than top_k, limiting top_k to number of items\n",
      "Number of items is less than top_k, limiting top_k to number of items\n"
     ]
    },
    {
     "name": "stdout",
     "output_type": "stream",
     "text": [
      "Done!\n",
      "\n",
      "Scores:\n",
      "k:\t [1, 2, 3, 5]\n",
      "absolute:\t [0.4, 0.36666666666666664, 0.34444444444444444, 0.3333333333333333]\n",
      "relative:\t [42.0, 19.249999999999996, 12.055555555555555, 7.0]\n",
      "\n",
      "evaluating for:\n",
      "n_users = 10\n",
      "n_recipes_per_cuisine = 50\n",
      "review_ratio= 1\n",
      "review_ratio_fav = 1\n",
      "\n",
      "\tfound recipe dataset\n",
      "\tcreating review datasets\n"
     ]
    },
    {
     "name": "stderr",
     "output_type": "stream",
     "text": [
      "/home/anton/.local/lib/python3.7/site-packages/pandas/core/frame.py:7123: FutureWarning: Sorting because non-concatenation axis is not aligned. A future version\n",
      "of pandas will change to not sort by default.\n",
      "\n",
      "To accept the future behavior, pass 'sort=False'.\n",
      "\n",
      "To retain the current behavior and silence the warning, pass 'sort=True'.\n",
      "\n",
      "  sort=sort,\n",
      "Number of items is less than top_k, limiting top_k to number of items\n",
      "Number of items is less than top_k, limiting top_k to number of items\n"
     ]
    },
    {
     "name": "stdout",
     "output_type": "stream",
     "text": [
      "\ttraining model\n",
      "\tscoring\n"
     ]
    },
    {
     "name": "stderr",
     "output_type": "stream",
     "text": [
      "Number of items is less than top_k, limiting top_k to number of items\n",
      "Number of items is less than top_k, limiting top_k to number of items\n"
     ]
    },
    {
     "name": "stdout",
     "output_type": "stream",
     "text": [
      "Done!\n",
      "\n",
      "Scores:\n",
      "k:\t [1, 2, 3, 5]\n",
      "absolute:\t [0.1, 0.25, 0.3, 0.22]\n",
      "relative:\t [21.0, 26.249999999999996, 21.0, 9.24]\n",
      "\n",
      "evaluating for:\n",
      "n_users = 20\n",
      "n_recipes_per_cuisine = 50\n",
      "review_ratio= 1\n",
      "review_ratio_fav = 1\n",
      "\n",
      "\tfound recipe dataset\n",
      "\tcreating review datasets\n"
     ]
    },
    {
     "name": "stderr",
     "output_type": "stream",
     "text": [
      "/home/anton/.local/lib/python3.7/site-packages/pandas/core/frame.py:7123: FutureWarning: Sorting because non-concatenation axis is not aligned. A future version\n",
      "of pandas will change to not sort by default.\n",
      "\n",
      "To accept the future behavior, pass 'sort=False'.\n",
      "\n",
      "To retain the current behavior and silence the warning, pass 'sort=True'.\n",
      "\n",
      "  sort=sort,\n",
      "Number of items is less than top_k, limiting top_k to number of items\n"
     ]
    },
    {
     "name": "stdout",
     "output_type": "stream",
     "text": [
      "\ttraining model\n",
      "\tscoring\n"
     ]
    },
    {
     "name": "stderr",
     "output_type": "stream",
     "text": [
      "Number of items is less than top_k, limiting top_k to number of items\n",
      "Number of items is less than top_k, limiting top_k to number of items\n",
      "Number of items is less than top_k, limiting top_k to number of items\n"
     ]
    },
    {
     "name": "stdout",
     "output_type": "stream",
     "text": [
      "Done!\n",
      "\n",
      "Scores:\n",
      "k:\t [1, 2, 3, 5]\n",
      "absolute:\t [0.1, 0.225, 0.2, 0.19]\n",
      "relative:\t [21.0, 23.625, 14.000000000000002, 7.98]\n",
      "\n",
      "evaluating for:\n",
      "n_users = 30\n",
      "n_recipes_per_cuisine = 50\n",
      "review_ratio= 1\n",
      "review_ratio_fav = 1\n",
      "\n",
      "\tfound recipe dataset\n",
      "\tcreating review datasets\n"
     ]
    },
    {
     "name": "stderr",
     "output_type": "stream",
     "text": [
      "/home/anton/.local/lib/python3.7/site-packages/pandas/core/frame.py:7123: FutureWarning: Sorting because non-concatenation axis is not aligned. A future version\n",
      "of pandas will change to not sort by default.\n",
      "\n",
      "To accept the future behavior, pass 'sort=False'.\n",
      "\n",
      "To retain the current behavior and silence the warning, pass 'sort=True'.\n",
      "\n",
      "  sort=sort,\n",
      "Number of items is less than top_k, limiting top_k to number of items\n"
     ]
    },
    {
     "name": "stdout",
     "output_type": "stream",
     "text": [
      "\ttraining model\n",
      "\tscoring\n"
     ]
    },
    {
     "name": "stderr",
     "output_type": "stream",
     "text": [
      "Number of items is less than top_k, limiting top_k to number of items\n",
      "Number of items is less than top_k, limiting top_k to number of items\n",
      "Number of items is less than top_k, limiting top_k to number of items\n"
     ]
    },
    {
     "name": "stdout",
     "output_type": "stream",
     "text": [
      "Done!\n",
      "\n",
      "Scores:\n",
      "k:\t [1, 2, 3, 5]\n",
      "absolute:\t [0.3, 0.21666666666666667, 0.2, 0.19333333333333333]\n",
      "relative:\t [62.99999999999999, 22.75, 14.000000000000002, 8.120000000000001]\n"
     ]
    }
   ],
   "source": [
    "d = dict([(r,[evaluate(u, recipes_per_cuisine, r, r, 0.5) for u in n_users]) for r in ratio])\n",
    "df = pd.DataFrame(d, index=n_users)"
   ]
  },
  {
   "cell_type": "code",
   "execution_count": null,
   "metadata": {},
   "outputs": [],
   "source": [
    "for r in ratio:\n",
    "    df_abs = pd.Dataframe({'k:':[] , 'accuracy':[]})\n",
    "    df_rel = pd.Dataframe({'k:':[] , 'accuracy':[]})\n",
    "    for u in users:\n",
    "        absolute, relative = evaluate(u, recipes_per_cuisine, r, r, 0.5)\n",
    "        d_abs = {'k:':[] , 'accuracy':[]}\n",
    "        d_rel = {'k:':[], 'accuracy':[]}\n",
    "        for k, a, r in top_k, absolute, relative:\n",
    "            d_abs['k'].append(k)\n",
    "            d_rel['k'].append(k)\n",
    "            d_abs['accuracy'].append(a)\n",
    "            d_rel['accuracy'].append(r)\n",
    "        df_abs.append(pd.DataFrame(d_abs))\n",
    "        df_rel.append(pd.DataFrame(d_rel))\n",
    "        \n",
    "    df_rel.set_index(users)\n",
    "    df_abs.set_index(users)\n",
    "    \n",
    "    sns.lineplot(data=df.column1, color=\"g\")\n",
    "\n",
    "    "
   ]
  },
  {
   "cell_type": "code",
   "execution_count": 11,
   "metadata": {},
   "outputs": [
    {
     "data": {
      "text/html": [
       "<div>\n",
       "<style scoped>\n",
       "    .dataframe tbody tr th:only-of-type {\n",
       "        vertical-align: middle;\n",
       "    }\n",
       "\n",
       "    .dataframe tbody tr th {\n",
       "        vertical-align: top;\n",
       "    }\n",
       "\n",
       "    .dataframe thead th {\n",
       "        text-align: right;\n",
       "    }\n",
       "</style>\n",
       "<table border=\"1\" class=\"dataframe\">\n",
       "  <thead>\n",
       "    <tr style=\"text-align: right;\">\n",
       "      <th></th>\n",
       "      <th>0.1</th>\n",
       "      <th>0.3</th>\n",
       "      <th>0.5</th>\n",
       "      <th>1.0</th>\n",
       "    </tr>\n",
       "  </thead>\n",
       "  <tbody>\n",
       "    <tr>\n",
       "      <td>10</td>\n",
       "      <td>([0.0, 0.15, 0.13333333333333333, 0.22], [0.0,...</td>\n",
       "      <td>([0.0, 0.1, 0.13333333333333333, 0.16], [0.0, ...</td>\n",
       "      <td>([0.4, 0.25, 0.2, 0.28], [42.0, 13.12499999999...</td>\n",
       "      <td>([0.1, 0.25, 0.3, 0.22], [21.0, 26.24999999999...</td>\n",
       "    </tr>\n",
       "    <tr>\n",
       "      <td>20</td>\n",
       "      <td>([0.3, 0.325, 0.31666666666666665, 0.36], [6.3...</td>\n",
       "      <td>([0.15, 0.2, 0.2, 0.21], [9.45, 6.300000000000...</td>\n",
       "      <td>([0.3, 0.2, 0.18333333333333332, 0.23], [31.49...</td>\n",
       "      <td>([0.1, 0.225, 0.2, 0.19], [21.0, 23.625, 14.00...</td>\n",
       "    </tr>\n",
       "    <tr>\n",
       "      <td>30</td>\n",
       "      <td>([0.36666666666666664, 0.31666666666666665, 0....</td>\n",
       "      <td>([0.3, 0.21666666666666667, 0.2444444444444444...</td>\n",
       "      <td>([0.4, 0.36666666666666664, 0.3444444444444444...</td>\n",
       "      <td>([0.3, 0.21666666666666667, 0.2, 0.19333333333...</td>\n",
       "    </tr>\n",
       "  </tbody>\n",
       "</table>\n",
       "</div>"
      ],
      "text/plain": [
       "                                                  0.1  \\\n",
       "10  ([0.0, 0.15, 0.13333333333333333, 0.22], [0.0,...   \n",
       "20  ([0.3, 0.325, 0.31666666666666665, 0.36], [6.3...   \n",
       "30  ([0.36666666666666664, 0.31666666666666665, 0....   \n",
       "\n",
       "                                                  0.3  \\\n",
       "10  ([0.0, 0.1, 0.13333333333333333, 0.16], [0.0, ...   \n",
       "20  ([0.15, 0.2, 0.2, 0.21], [9.45, 6.300000000000...   \n",
       "30  ([0.3, 0.21666666666666667, 0.2444444444444444...   \n",
       "\n",
       "                                                  0.5  \\\n",
       "10  ([0.4, 0.25, 0.2, 0.28], [42.0, 13.12499999999...   \n",
       "20  ([0.3, 0.2, 0.18333333333333332, 0.23], [31.49...   \n",
       "30  ([0.4, 0.36666666666666664, 0.3444444444444444...   \n",
       "\n",
       "                                                  1.0  \n",
       "10  ([0.1, 0.25, 0.3, 0.22], [21.0, 26.24999999999...  \n",
       "20  ([0.1, 0.225, 0.2, 0.19], [21.0, 23.625, 14.00...  \n",
       "30  ([0.3, 0.21666666666666667, 0.2, 0.19333333333...  "
      ]
     },
     "execution_count": 11,
     "metadata": {},
     "output_type": "execute_result"
    }
   ],
   "source": [
    "df"
   ]
  },
  {
   "cell_type": "code",
   "execution_count": null,
   "metadata": {},
   "outputs": [],
   "source": [
    "sns.lineplot(data=df, x='x', y='y', hue='color')\n"
   ]
  }
 ],
 "metadata": {
  "kernelspec": {
   "display_name": "Python 3",
   "language": "python",
   "name": "python3"
  },
  "language_info": {
   "codemirror_mode": {
    "name": "ipython",
    "version": 3
   },
   "file_extension": ".py",
   "mimetype": "text/x-python",
   "name": "python",
   "nbconvert_exporter": "python",
   "pygments_lexer": "ipython3",
   "version": "3.7.3"
  }
 },
 "nbformat": 4,
 "nbformat_minor": 2
}
