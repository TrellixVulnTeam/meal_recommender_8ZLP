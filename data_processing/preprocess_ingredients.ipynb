{
 "cells": [
  {
   "cell_type": "code",
   "execution_count": 35,
   "metadata": {},
   "outputs": [],
   "source": [
    "import pandas as pd\n",
    "import re\n",
    "import ast\n",
    "\n",
    "from string import digits\n",
    "from string import punctuation"
   ]
  },
  {
   "cell_type": "code",
   "execution_count": 72,
   "metadata": {},
   "outputs": [],
   "source": [
    "for size in ['10', '20', '30', '40', '50']:\n",
    "    path = 'data/synthetic/recipes/cuisine_size_' + size + '.csv'\n",
    "    recipes = pd.read_csv(path)\n",
    "    \n",
    "    common = {\"tablespoons\", \"tablespoon\", \"teaspoon\", \"teaspoons\", \"tbsp\", \"tsp\", \"cup\", \"cups\", \"ounces\",\n",
    "              \"lb\", \"lbs\", \"lbs\", \"box\", \"pound\", \"pounds\", \"whole\", \"gram\", \"grams\", \"g\", \"ml\",\n",
    "              \"oz\", \"oz.\", \"parts\", \"part\", \"\", \"/\", \"-\", \"the\", \"and\", \"into\", \"cut\",\"fresh\", \"minced\", \"chopped\", \"finely\", \"or\",\n",
    "              \"for\", \"of\", \"to\",\"salt\", \"pepper\", \"your\", \"taste\", \"etc\", \"sliced\", \"big\", \"small\", \"large\", \"intact\", \"flakes\", \"about\", \"round\",\n",
    "             \"other\", \"hot\", \"make\", \"low\", \"favorite\", \"pack\", \"packed\", \"recommended\", \"top\", \"use\", \"firmly\", \"size\", \"will\", \"because\",\n",
    "             \"in\", \"is\", \"inch\", \"medium\", \"ounce\", \"kilo\", \"kilos\", \"kg\", \"so\", \"plus\", \"slice\", \"slices\", \"as\", \"drained\", \"thinly\", \"halves\", \"either\", \n",
    "             \"such\", \"optional\", \"if\", \"care\", \"pride\", \"per\", \"it\", \"got\", \"have\", \"want\", \"on\", \"be\", \"all\", \"very\", \"with\",\n",
    "             \"removed\", \"approximately\", \"half\", \"pieces\", \"chop\", \"freshly\", \"free\", \"extra\", \"diced\", \"recipe\", \"mix\", \"halved\",\n",
    "             \"each\", \"a\", \"an\", \"what\", \"i\", \"thin\", \"bag\", \"more\", \"no\", \"any\", \"sauce\", \"at\", \"serving\", \"servings\"}\n",
    "\n",
    "    remove_digits = str.maketrans('', '', digits)\n",
    "    remove_punctuation = str.maketrans('', '', punctuation)\n",
    "\n",
    "    def preprocess(cell):\n",
    "        ingredients = ast.literal_eval(cell)\n",
    "        long_ing_string = ' '.join(ingredients).lower()\n",
    "        cleaned_ing_set = set(long_ing_string.translate(remove_digits).translate(remove_punctuation).split(\" \"))\n",
    "        cleaned_ing_set.difference_update(common)\n",
    "        return '+'.join(cleaned_ing_set)\n",
    "\n",
    "    recipes['clean_ingredients'] = recipes.apply(lambda x: preprocess(x.ingredients), axis=1)\n",
    "    recipes.to_csv(path)"
   ]
  },
  {
   "cell_type": "code",
   "execution_count": null,
   "metadata": {},
   "outputs": [],
   "source": []
  }
 ],
 "metadata": {
  "kernelspec": {
   "display_name": "Python 3",
   "language": "python",
   "name": "python3"
  },
  "language_info": {
   "codemirror_mode": {
    "name": "ipython",
    "version": 3
   },
   "file_extension": ".py",
   "mimetype": "text/x-python",
   "name": "python",
   "nbconvert_exporter": "python",
   "pygments_lexer": "ipython3",
   "version": "3.6.5"
  }
 },
 "nbformat": 4,
 "nbformat_minor": 2
}
