{
 "cells": [
  {
   "cell_type": "markdown",
   "metadata": {},
   "source": [
    "# Synthesizing Cuisine Specific Dataset"
   ]
  },
  {
   "cell_type": "code",
   "execution_count": null,
   "metadata": {},
   "outputs": [],
   "source": [
    "data_final = pd.read_csv('../data/recipe_final.csv')\n",
    "# data_final['cuisine'].describe()\n",
    "data_final"
   ]
  },
  {
   "cell_type": "code",
   "execution_count": null,
   "metadata": {},
   "outputs": [],
   "source": [
    "data_final[['ingredient_amount']]\n",
    "cuisines = set(data_final['cuisine'])\n",
    "cuisines.remove(' garlic')\n",
    "cuisines.remove('Cajun & Creole')\n",
    "cuisines.remove(' tosted 125 mL 2 tbsp. chopped fresh cilantro 30 mL Directions 1\\\\xa0In tajine or large saucepan')\n",
    "cuisines\n"
   ]
  },
  {
   "cell_type": "code",
   "execution_count": null,
   "metadata": {},
   "outputs": [],
   "source": [
    "size = 10 #number of recipes per cuisine\n",
    "df = pd.DataFrame(columns=data_final.columns)\n",
    "for c in cuisines:\n",
    "    print(c)\n",
    "    mask = (data_final['cuisine'] == c)\n",
    "    #print(data_final[mask])\n",
    "    df = df.append(data_final[mask][:size])\n",
    "df.to_csv('../data/synthetic/cuisine_size_{}'.format(size))"
   ]
  },
  {
   "cell_type": "code",
   "execution_count": null,
   "metadata": {},
   "outputs": [],
   "source": []
  },
  {
   "cell_type": "code",
   "execution_count": null,
   "metadata": {},
   "outputs": [],
   "source": []
  },
  {
   "cell_type": "code",
   "execution_count": null,
   "metadata": {},
   "outputs": [],
   "source": []
  },
  {
   "cell_type": "code",
   "execution_count": null,
   "metadata": {},
   "outputs": [],
   "source": []
  }
 ],
 "metadata": {
  "anaconda-cloud": {},
  "kernelspec": {
   "display_name": "Python [default]",
   "language": "python",
   "name": "python3"
  },
  "language_info": {
   "codemirror_mode": {
    "name": "ipython",
    "version": 3
   },
   "file_extension": ".py",
   "mimetype": "text/x-python",
   "name": "python",
   "nbconvert_exporter": "python",
   "pygments_lexer": "ipython3",
   "version": "3.5.4"
  }
 },
 "nbformat": 4,
 "nbformat_minor": 2
}
