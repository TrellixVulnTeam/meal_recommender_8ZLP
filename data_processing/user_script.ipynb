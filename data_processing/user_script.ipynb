{
 "cells": [
  {
   "cell_type": "code",
   "execution_count": 71,
   "metadata": {},
   "outputs": [],
   "source": [
    "from uuid import uuid3\n",
    "from random import randint\n",
    "import random\n",
    "import pandas as pd\n",
    "\n",
    "def create_username(fav_cuisine):\n",
    "    fav_words = [\"luver\",\"connoisseur\",\"eatz\",\"finesser\",\"fan\"]\n",
    "    need_words = [\"cant_get_enough\",\"cant_live_without\",\"needs\",\"only_eats\"]\n",
    "    names = ['Kathey', 'Silas', 'Cristina', 'Perry', 'Robbi', 'Florentino', 'Elliot', 'Raye',\\\n",
    "             'Evette', 'Risa', 'Lurline', 'Tashia', 'Danyel', 'Shaun', 'Luciano', 'Trang', \\\n",
    "             'Summer', 'Martin', 'China', 'Jacob', 'Alenta', 'Sule', 'Quentin', 'Anton']\n",
    "    food_words = [\"food\",\"grub\",\"eatz\"]\n",
    "    \n",
    "    rand_num = ''.join(random.choice('0123456789') for i in range(3))\n",
    "    if randint(0,1) == 0:\n",
    "        return \"{}_{}_{}\".format(fav_cuisine.lower(),fav_words[randint(0,len(fav_words)-1)],rand_num)\n",
    "    \n",
    "    i,j,k = randint(0,len(names)-1),randint(0,len(need_words)-1),randint(0,len(food_words)-1)\n",
    "    return \"{}_{}_{}_{}_{}\".format(names[i].lower(), need_words[j], fav_cuisine.lower(),food_words[k],rand_num)\n",
    "    \n",
    "def get_rating(x):\n",
    "    if x[\"cuisine\"] == x[\"fav_cuisine\"]:\n",
    "        return 5\n",
    "    elif x[\"cuisine\"] == x[\"least_fav_cuisine\"]:\n",
    "        return 1\n",
    "    else:\n",
    "        return randint(1,5)\n",
    "\n",
    "def createUserReviews(num_users,review_ratio,recipe_df):\n",
    "    users_df = pd.DataFrame(columns=[\"username\",\"favorite_cusine\",\"least_fav_cuisine\"])\n",
    "    reviews_df = pd.DataFrame(columns=[\"username\",\"recipe_id\",\"rating\"])\n",
    "    cuisines = recipe_df.cuisine.unique()\n",
    "\n",
    "    for i in range(num_users):\n",
    "        fav_cuisine_index = randint(0,len(cuisines)-1)\n",
    "        least_fav_cuisine_index = randint(0,len(cuisines)-1)\n",
    "        while least_fav_cuisine_index == fav_cuisine_index:\n",
    "            least_fav_cuisine_index = randint(0,len(cuisines)-1)\n",
    "        fav_cuisine,least_fav_cuisine = cuisines[fav_cuisine_index],cuisines[least_fav_cuisine_index]\n",
    "        username = create_username(fav_cuisine)\n",
    "        user_data = [username,fav_cuisine,least_fav_cuisine]\n",
    "        users_df.loc[i] = user_data\n",
    "        \n",
    "        for c in cuisines:\n",
    "            mask = recipe_df[\"cuisine\"] == c\n",
    "            recipe_subset = recipe_df[mask]\n",
    "            rows,cols = recipe_subset.shape\n",
    "            to_be_reviewed = recipe_subset.sample(int(rows*review_ratio))\n",
    "            to_be_reviewed[\"username\"] = username\n",
    "            to_be_reviewed[\"fav_cuisine\"] = fav_cuisine\n",
    "            to_be_reviewed[\"least_fav_cuisine\"] = least_fav_cuisine\n",
    "            to_be_reviewed[\"rating\"] = to_be_reviewed.apply(get_rating,axis=1)\n",
    "            reviewed = to_be_reviewed[[\"username\",\"recipe_id\",\"rating\"]]\n",
    "            reviews_df = reviews_df.append(reviewed)\n",
    "            \n",
    "    return users_df, reviews_df\n",
    "    "
   ]
  },
  {
   "cell_type": "code",
   "execution_count": 75,
   "metadata": {},
   "outputs": [],
   "source": [
    "path = '../data/synthetic/recipes/cuisine_size_10.csv'\n",
    "recipe_df = pd.read_csv(path)\n",
    "num_users = 20\n",
    "review_ratio = .3\n",
    "users_df, reviews_df = createUserReviews(num_users,review_ratio,recipe_df)  \n",
    "\n",
    "users_df.to_csv('../data/synthetic/users/{}_users_{}_reviewratio.csv'.format(num_users,review_ratio))\n",
    "reviews_df.to_csv('../data/synthetic/reviews/{}_users_{}_reviewratio.csv'.format(num_users,int(review_ratio*100)))"
   ]
  },
  {
   "cell_type": "code",
   "execution_count": null,
   "metadata": {},
   "outputs": [],
   "source": []
  }
 ],
 "metadata": {
  "kernelspec": {
   "display_name": "Python 3",
   "language": "python",
   "name": "python3"
  },
  "language_info": {
   "codemirror_mode": {
    "name": "ipython",
    "version": 3
   },
   "file_extension": ".py",
   "mimetype": "text/x-python",
   "name": "python",
   "nbconvert_exporter": "python",
   "pygments_lexer": "ipython3",
   "version": "3.7.4"
  }
 },
 "nbformat": 4,
 "nbformat_minor": 2
}
